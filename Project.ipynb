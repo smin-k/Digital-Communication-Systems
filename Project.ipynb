{
 "cells": [
  {
   "cell_type": "markdown",
   "id": "4452542b",
   "metadata": {},
   "source": [
    "# Digital Communication Systems Project: Implementation of LDPC Code\n",
    "\n",
    "## Seungmin Kim\n",
    "## EECS 20224026\n"
   ]
  },
  {
   "cell_type": "markdown",
   "id": "1be545d5",
   "metadata": {},
   "source": [
    "# Mission 1:  \n",
    "## Evaluate the bit error probability of the IEEE standard 802.16e LDPC code  "
   ]
  },
  {
   "cell_type": "code",
   "execution_count": 1,
   "id": "6cf82b31",
   "metadata": {},
   "outputs": [],
   "source": [
    "import math\n",
    "import random\n",
    "import numpy as np\n",
    "import matplotlib.pyplot as plt\n",
    "from numpy.linalg import inv\n",
    "from scipy.special import erfc \n",
    "from PIL import Image\n",
    "from numba import jit, prange\n",
    "from IPython.display import HTML\n",
    "\n",
    "def show_array(array):\n",
    "    html = '<table><tr>{}</tr></table>'.format(\n",
    "        '</tr><tr>'.join(\n",
    "            ''.join('<td style=\"background-color: yellow;\"><b>{}</b></td>'.format(_) if _ != 0 else '<td>{}</td>'.format(_) for _ in row) for row in array\n",
    "        )\n",
    "    )\n",
    "\n",
    "    display(HTML(html))"
   ]
  },
  {
   "cell_type": "markdown",
   "id": "4d9e6519",
   "metadata": {},
   "source": [
    "# Parity Check Matrix: Choose a code rate 𝑅 and determine the base matrix\n",
    "\n",
    "## I took and used all the default matrices provided in 802.16e.\n",
    "## used 23-a and 34-b\n",
    "![base matrix exmaple](img/base_matrix.png)\n",
    "\n",
    "## base matrix list"
   ]
  },
  {
   "cell_type": "code",
   "execution_count": 2,
   "id": "ce0394e9",
   "metadata": {
    "scrolled": true
   },
   "outputs": [],
   "source": [
    "hb_matrix_12 = np.array([  \n",
    "    [-1,  94,  73,  -1,  -1,  -1,  -1,  -1,  55,  83,  -1,  -1,  7,    0,  -1,  -1,  -1,  -1,  -1,  -1,  -1,  -1,  -1,  -1], \n",
    "    [-1,  27,  -1,  -1,  -1,  22,  79,   9,  -1,  -1,  -1,  12,  -1,   0,   0,  -1,  -1,  -1,  -1,  -1,  -1,  -1,  -1,  -1], \n",
    "    [-1,  -1,  -1,  24,  22,  81,  -1,  33,  -1,  -1,  -1,   0,  -1,  -1,   0,   0,  -1,  -1,  -1,  -1,  -1,  -1,  -1,  -1], \n",
    "    [61,  -1,  47,  -1,  -1,  -1,  -1,  -1,  65,  25,  -1,  -1,  -1,  -1,  -1,   0,   0,  -1,  -1,  -1,  -1,  -1,  -1,  -1], \n",
    "    [-1,  -1,  39,  -1,  -1,  -1,  84,  -1,  -1,  41,  72,  -1,  -1,  -1,  -1,  -1,   0,   0,  -1,  -1,  -1,  -1,  -1,  -1], \n",
    "    [-1,  -1,  -1,  -1,  46,  40,  -1,  82,  -1,  -1,  -1,  79,   0,  -1,  -1,  -1,  -1,   0,   0,  -1,  -1,  -1,  -1,  -1], \n",
    "    [-1,  -1,  95,  53,  -1,  -1,  -1,  -1,  -1,  14,  18,  -1,  -1,  -1,  -1,  -1,  -1,  -1,   0,   0,  -1,  -1,  -1,  -1], \n",
    "    [-1,  11,  73,  -1,  -1,  -1,   2,  -1,  -1,  47,  -1,  -1,  -1,  -1,  -1,  -1,  -1,  -1,  -1,   0,   0,  -1,  -1,  -1], \n",
    "    [12,  -1,  -1,  -1,  83,  24,  -1,  43,  -1,  -1,  -1,  51,  -1,  -1,  -1,  -1,  -1,  -1,  -1,  -1,   0,   0,  -1,  -1], \n",
    "    [-1,  -1,  -1,  -1,  -1,  94,  -1,  59,  -1,  -1,  70,  72,  -1,  -1,  -1,  -1,  -1,  -1,  -1,  -1,  -1,   0,   0,  -1], \n",
    "    [-1,  -1,   7,  65,  -1,  -1,  -1,  -1,  39,  49,  -1,  -1,  -1,  -1,  -1,  -1,  -1,  -1,  -1,  -1,  -1,  -1,   0,   0], \n",
    "    [43,  -1,  -1,  -1,  -1,  66,  -1,  41,  -1,  -1,  -1,  26,   7,  -1,  -1,  -1,  -1,  -1,  -1,  -1,  -1,  -1,  -1,  0 ]   \n",
    "])\n",
    "\n",
    "#23b\n",
    "hb_matrix_23 = [\n",
    "    [ 2,  -1,  19,  -1,  47,  -1,  48,  -1,  36,  -1,  82,  -1,  47,  -1,  15,  -1,  95,   0,  -1,  -1,  -1,  -1,  -1,  -1], \n",
    "    [-1,  69,  -1,  88,  -1,  33,  -1,   3,  -1,  16,  -1,  37,  -1,  40,  -1,  48,  -1,   0,   0,  -1,  -1,  -1,  -1,  -1], \n",
    "    [10,  -1,  86,  -1,  62,  -1,  28,  -1,  85,  -1,  16,  -1,  34,  -1,  73,  -1,  -1,  -1,   0,   0,  -1,  -1,  -1,  -1], \n",
    "    [-1,  28,  -1,  32,  -1,  81,  -1,  27,  -1,  88,  -1,   5,  -1,  56,  -1,  37,  -1,  -1,  -1,   0,   0,  -1,  -1,  -1], \n",
    "    [23,  -1,  29,  -1,  15,  -1,  30,  -1,  66,  -1,  24,  -1,  50,  -1,  62,  -1,  -1,  -1,  -1,  -1,   0,   0,  -1,  -1], \n",
    "    [-1,  30,  -1,  65,  -1,  54,  -1,  14,  -1,   0,  -1,  30,  -1,  74,  -1,   0,  -1,  -1,  -1,  -1,  -1,   0,   0,  -1], \n",
    "    [32,  -1,   0,  -1,  15,  -1,  56,  -1,  85,  -1,   5,  -1,   6,  -1,  52,  -1,   0,  -1,  -1,  -1,  -1,  -1,   0,   0], \n",
    "    [-1,   0,  -1,  47,  -1,  13,  -1,  61,  -1,  84,  -1,  55,  -1,  78,  -1,  41,  95,  -1,  -1,  -1,  -1,  -1,  -1,   0]\n",
    "]\n",
    "\n",
    "#34a\n",
    "hb_matrix_34 = np.array([ \n",
    "    [ 6,  38,   3,  93,  -1,  -1,  -1,  30,  70,  -1,  86,  -1,  37,  38,   4,  11,  -1,  46,  48,   0,  -1,  -1,  -1,  -1], \n",
    "    [62,  94,  19,  84,  -1,  92,  78,  -1,  15,  -1,  -1,  92,  -1,  45,  24,  32,  30,  -1,  -1,   0,   0,  -1,  -1,  -1], \n",
    "    [71,  -1,  55,  -1,  12,  66,  45,  79,  -1,  78,  -1,  -1,  10,  -1,  22,  55,  70,  82,  -1,  -1,   0,   0,  -1,  -1], \n",
    "    [38,  61,  -1,  66,   9,  73,  47,  64,  -1,  39,  61,  43,  -1,  -1,  -1,  -1,  95,  32,   0,  -1,  -1,   0,   0,  -1], \n",
    "    [-1,  -1,  -1,  -1,  32,  52,  55,  80,  95,  22,   6,  51,  24,  90,  44,  20,  -1,  -1,  -1,  -1,  -1,  -1,   0,   0], \n",
    "    [-1,  63,  31,  88,  20,  -1,  -1,  -1,   6,  40,  56,  16,  71,  53,  -1,  -1,  27,  26,  48,  -1,  -1,  -1,  -1,   0]\n",
    "])\n",
    "\n",
    "hb_matrix_56 = np.array([ \n",
    "    [ 1, 25, 55, -1,  47,   4,  -1,  91,  84,   8,  86,  52,  82,  33,   5,   0,  36,  20,   4,  77,  80,   0,  -1,  -1], \n",
    "    [-1,  6, -1, 36,  40,  47,  12,  79,  47,  -1,  41,  21,  12,  71,  14,  72,   0,  44,  49,   0,   0,   0,   0,  -1], \n",
    "    [51, 81, 83,  4,  67,  -1,  21,  -1,  31,  24,  91,  61,  81,   9,  86,  78,  60,  88,  67,  15,  -1,  -1,   0,   0], \n",
    "    [50, -1, 50, 15,  -1,  36,  13,  10,  11,  20,  53,  90,  29,  92,  57,  30,  84,  92,  11,  66,  80,  -1,  -1,   0]\n",
    "])\n"
   ]
  },
  {
   "cell_type": "markdown",
   "id": "51263bd3",
   "metadata": {},
   "source": [
    "## get_base_matrix\n",
    "\n",
    "## Entering n and r will retrieve the z value and base matrix that match the conditions.\n",
    "![sub matrix exmaple](img/base_matrix.png)"
   ]
  },
  {
   "cell_type": "code",
   "execution_count": 3,
   "id": "860baf2e",
   "metadata": {},
   "outputs": [
    {
     "name": "stdout",
     "output_type": "stream",
     "text": [
      "n:576, r:0.8333333333333334\n",
      "z:24\n"
     ]
    },
    {
     "data": {
      "text/html": [
       "<table><tr><td style=\"background-color: yellow;\"><b>1</b></td><td style=\"background-color: yellow;\"><b>25</b></td><td style=\"background-color: yellow;\"><b>55</b></td><td style=\"background-color: yellow;\"><b>-1</b></td><td style=\"background-color: yellow;\"><b>47</b></td><td style=\"background-color: yellow;\"><b>4</b></td><td style=\"background-color: yellow;\"><b>-1</b></td><td style=\"background-color: yellow;\"><b>91</b></td><td style=\"background-color: yellow;\"><b>84</b></td><td style=\"background-color: yellow;\"><b>8</b></td><td style=\"background-color: yellow;\"><b>86</b></td><td style=\"background-color: yellow;\"><b>52</b></td><td style=\"background-color: yellow;\"><b>82</b></td><td style=\"background-color: yellow;\"><b>33</b></td><td style=\"background-color: yellow;\"><b>5</b></td><td>0</td><td style=\"background-color: yellow;\"><b>36</b></td><td style=\"background-color: yellow;\"><b>20</b></td><td style=\"background-color: yellow;\"><b>4</b></td><td style=\"background-color: yellow;\"><b>77</b></td><td style=\"background-color: yellow;\"><b>80</b></td><td>0</td><td style=\"background-color: yellow;\"><b>-1</b></td><td style=\"background-color: yellow;\"><b>-1</b></td></tr><tr><td style=\"background-color: yellow;\"><b>-1</b></td><td style=\"background-color: yellow;\"><b>6</b></td><td style=\"background-color: yellow;\"><b>-1</b></td><td style=\"background-color: yellow;\"><b>36</b></td><td style=\"background-color: yellow;\"><b>40</b></td><td style=\"background-color: yellow;\"><b>47</b></td><td style=\"background-color: yellow;\"><b>12</b></td><td style=\"background-color: yellow;\"><b>79</b></td><td style=\"background-color: yellow;\"><b>47</b></td><td style=\"background-color: yellow;\"><b>-1</b></td><td style=\"background-color: yellow;\"><b>41</b></td><td style=\"background-color: yellow;\"><b>21</b></td><td style=\"background-color: yellow;\"><b>12</b></td><td style=\"background-color: yellow;\"><b>71</b></td><td style=\"background-color: yellow;\"><b>14</b></td><td style=\"background-color: yellow;\"><b>72</b></td><td>0</td><td style=\"background-color: yellow;\"><b>44</b></td><td style=\"background-color: yellow;\"><b>49</b></td><td>0</td><td>0</td><td>0</td><td>0</td><td style=\"background-color: yellow;\"><b>-1</b></td></tr><tr><td style=\"background-color: yellow;\"><b>51</b></td><td style=\"background-color: yellow;\"><b>81</b></td><td style=\"background-color: yellow;\"><b>83</b></td><td style=\"background-color: yellow;\"><b>4</b></td><td style=\"background-color: yellow;\"><b>67</b></td><td style=\"background-color: yellow;\"><b>-1</b></td><td style=\"background-color: yellow;\"><b>21</b></td><td style=\"background-color: yellow;\"><b>-1</b></td><td style=\"background-color: yellow;\"><b>31</b></td><td style=\"background-color: yellow;\"><b>24</b></td><td style=\"background-color: yellow;\"><b>91</b></td><td style=\"background-color: yellow;\"><b>61</b></td><td style=\"background-color: yellow;\"><b>81</b></td><td style=\"background-color: yellow;\"><b>9</b></td><td style=\"background-color: yellow;\"><b>86</b></td><td style=\"background-color: yellow;\"><b>78</b></td><td style=\"background-color: yellow;\"><b>60</b></td><td style=\"background-color: yellow;\"><b>88</b></td><td style=\"background-color: yellow;\"><b>67</b></td><td style=\"background-color: yellow;\"><b>15</b></td><td style=\"background-color: yellow;\"><b>-1</b></td><td style=\"background-color: yellow;\"><b>-1</b></td><td>0</td><td>0</td></tr><tr><td style=\"background-color: yellow;\"><b>50</b></td><td style=\"background-color: yellow;\"><b>-1</b></td><td style=\"background-color: yellow;\"><b>50</b></td><td style=\"background-color: yellow;\"><b>15</b></td><td style=\"background-color: yellow;\"><b>-1</b></td><td style=\"background-color: yellow;\"><b>36</b></td><td style=\"background-color: yellow;\"><b>13</b></td><td style=\"background-color: yellow;\"><b>10</b></td><td style=\"background-color: yellow;\"><b>11</b></td><td style=\"background-color: yellow;\"><b>20</b></td><td style=\"background-color: yellow;\"><b>53</b></td><td style=\"background-color: yellow;\"><b>90</b></td><td style=\"background-color: yellow;\"><b>29</b></td><td style=\"background-color: yellow;\"><b>92</b></td><td style=\"background-color: yellow;\"><b>57</b></td><td style=\"background-color: yellow;\"><b>30</b></td><td style=\"background-color: yellow;\"><b>84</b></td><td style=\"background-color: yellow;\"><b>92</b></td><td style=\"background-color: yellow;\"><b>11</b></td><td style=\"background-color: yellow;\"><b>66</b></td><td style=\"background-color: yellow;\"><b>80</b></td><td style=\"background-color: yellow;\"><b>-1</b></td><td style=\"background-color: yellow;\"><b>-1</b></td><td>0</td></tr></table>"
      ],
      "text/plain": [
       "<IPython.core.display.HTML object>"
      ]
     },
     "metadata": {},
     "output_type": "display_data"
    }
   ],
   "source": [
    "hb_matrix_dic = { 1/2 : hb_matrix_12, 2/3 : hb_matrix_23 , 3/4 : hb_matrix_34, 5/6 : hb_matrix_56 } \n",
    "\n",
    "def get_base_matrix(n,r):\n",
    "    k = n * r\n",
    "    z = int(n/24)\n",
    "    \n",
    "    b_matrix = hb_matrix_dic[r]\n",
    "    return z, b_matrix \n",
    "\n",
    "n= 576\n",
    "r= 5/6\n",
    "print(\"n:\"+str(n)+\", r:\"+str(r))\n",
    "print(\"z:\"+str(get_base_matrix(n,r)[0]))\n",
    "show_array(get_base_matrix(n,r)[1])"
   ]
  },
  {
   "cell_type": "markdown",
   "id": "db9076f2",
   "metadata": {},
   "source": [
    "## get_sub_matrix\n",
    "\n",
    "## input z and value will retrieve the z value and base matrix that match the conditions.\n",
    "![base matrix exmaple](img/sub_matrix.png)"
   ]
  },
  {
   "cell_type": "code",
   "execution_count": 4,
   "id": "3ada80c8",
   "metadata": {},
   "outputs": [
    {
     "name": "stdout",
     "output_type": "stream",
     "text": [
      "z:24, value:16\n",
      "submatrix:\n"
     ]
    },
    {
     "data": {
      "text/html": [
       "<table><tr><td>0</td><td>0</td><td>0</td><td>0</td><td>0</td><td>0</td><td>0</td><td>0</td><td>0</td><td>0</td><td>0</td><td>0</td><td>0</td><td>0</td><td>0</td><td>0</td><td style=\"background-color: yellow;\"><b>1</b></td><td>0</td><td>0</td><td>0</td><td>0</td><td>0</td><td>0</td><td>0</td></tr><tr><td>0</td><td>0</td><td>0</td><td>0</td><td>0</td><td>0</td><td>0</td><td>0</td><td>0</td><td>0</td><td>0</td><td>0</td><td>0</td><td>0</td><td>0</td><td>0</td><td>0</td><td style=\"background-color: yellow;\"><b>1</b></td><td>0</td><td>0</td><td>0</td><td>0</td><td>0</td><td>0</td></tr><tr><td>0</td><td>0</td><td>0</td><td>0</td><td>0</td><td>0</td><td>0</td><td>0</td><td>0</td><td>0</td><td>0</td><td>0</td><td>0</td><td>0</td><td>0</td><td>0</td><td>0</td><td>0</td><td style=\"background-color: yellow;\"><b>1</b></td><td>0</td><td>0</td><td>0</td><td>0</td><td>0</td></tr><tr><td>0</td><td>0</td><td>0</td><td>0</td><td>0</td><td>0</td><td>0</td><td>0</td><td>0</td><td>0</td><td>0</td><td>0</td><td>0</td><td>0</td><td>0</td><td>0</td><td>0</td><td>0</td><td>0</td><td style=\"background-color: yellow;\"><b>1</b></td><td>0</td><td>0</td><td>0</td><td>0</td></tr><tr><td>0</td><td>0</td><td>0</td><td>0</td><td>0</td><td>0</td><td>0</td><td>0</td><td>0</td><td>0</td><td>0</td><td>0</td><td>0</td><td>0</td><td>0</td><td>0</td><td>0</td><td>0</td><td>0</td><td>0</td><td style=\"background-color: yellow;\"><b>1</b></td><td>0</td><td>0</td><td>0</td></tr><tr><td>0</td><td>0</td><td>0</td><td>0</td><td>0</td><td>0</td><td>0</td><td>0</td><td>0</td><td>0</td><td>0</td><td>0</td><td>0</td><td>0</td><td>0</td><td>0</td><td>0</td><td>0</td><td>0</td><td>0</td><td>0</td><td style=\"background-color: yellow;\"><b>1</b></td><td>0</td><td>0</td></tr><tr><td>0</td><td>0</td><td>0</td><td>0</td><td>0</td><td>0</td><td>0</td><td>0</td><td>0</td><td>0</td><td>0</td><td>0</td><td>0</td><td>0</td><td>0</td><td>0</td><td>0</td><td>0</td><td>0</td><td>0</td><td>0</td><td>0</td><td style=\"background-color: yellow;\"><b>1</b></td><td>0</td></tr><tr><td>0</td><td>0</td><td>0</td><td>0</td><td>0</td><td>0</td><td>0</td><td>0</td><td>0</td><td>0</td><td>0</td><td>0</td><td>0</td><td>0</td><td>0</td><td>0</td><td>0</td><td>0</td><td>0</td><td>0</td><td>0</td><td>0</td><td>0</td><td style=\"background-color: yellow;\"><b>1</b></td></tr><tr><td style=\"background-color: yellow;\"><b>1</b></td><td>0</td><td>0</td><td>0</td><td>0</td><td>0</td><td>0</td><td>0</td><td>0</td><td>0</td><td>0</td><td>0</td><td>0</td><td>0</td><td>0</td><td>0</td><td>0</td><td>0</td><td>0</td><td>0</td><td>0</td><td>0</td><td>0</td><td>0</td></tr><tr><td>0</td><td style=\"background-color: yellow;\"><b>1</b></td><td>0</td><td>0</td><td>0</td><td>0</td><td>0</td><td>0</td><td>0</td><td>0</td><td>0</td><td>0</td><td>0</td><td>0</td><td>0</td><td>0</td><td>0</td><td>0</td><td>0</td><td>0</td><td>0</td><td>0</td><td>0</td><td>0</td></tr><tr><td>0</td><td>0</td><td style=\"background-color: yellow;\"><b>1</b></td><td>0</td><td>0</td><td>0</td><td>0</td><td>0</td><td>0</td><td>0</td><td>0</td><td>0</td><td>0</td><td>0</td><td>0</td><td>0</td><td>0</td><td>0</td><td>0</td><td>0</td><td>0</td><td>0</td><td>0</td><td>0</td></tr><tr><td>0</td><td>0</td><td>0</td><td style=\"background-color: yellow;\"><b>1</b></td><td>0</td><td>0</td><td>0</td><td>0</td><td>0</td><td>0</td><td>0</td><td>0</td><td>0</td><td>0</td><td>0</td><td>0</td><td>0</td><td>0</td><td>0</td><td>0</td><td>0</td><td>0</td><td>0</td><td>0</td></tr><tr><td>0</td><td>0</td><td>0</td><td>0</td><td style=\"background-color: yellow;\"><b>1</b></td><td>0</td><td>0</td><td>0</td><td>0</td><td>0</td><td>0</td><td>0</td><td>0</td><td>0</td><td>0</td><td>0</td><td>0</td><td>0</td><td>0</td><td>0</td><td>0</td><td>0</td><td>0</td><td>0</td></tr><tr><td>0</td><td>0</td><td>0</td><td>0</td><td>0</td><td style=\"background-color: yellow;\"><b>1</b></td><td>0</td><td>0</td><td>0</td><td>0</td><td>0</td><td>0</td><td>0</td><td>0</td><td>0</td><td>0</td><td>0</td><td>0</td><td>0</td><td>0</td><td>0</td><td>0</td><td>0</td><td>0</td></tr><tr><td>0</td><td>0</td><td>0</td><td>0</td><td>0</td><td>0</td><td style=\"background-color: yellow;\"><b>1</b></td><td>0</td><td>0</td><td>0</td><td>0</td><td>0</td><td>0</td><td>0</td><td>0</td><td>0</td><td>0</td><td>0</td><td>0</td><td>0</td><td>0</td><td>0</td><td>0</td><td>0</td></tr><tr><td>0</td><td>0</td><td>0</td><td>0</td><td>0</td><td>0</td><td>0</td><td style=\"background-color: yellow;\"><b>1</b></td><td>0</td><td>0</td><td>0</td><td>0</td><td>0</td><td>0</td><td>0</td><td>0</td><td>0</td><td>0</td><td>0</td><td>0</td><td>0</td><td>0</td><td>0</td><td>0</td></tr><tr><td>0</td><td>0</td><td>0</td><td>0</td><td>0</td><td>0</td><td>0</td><td>0</td><td style=\"background-color: yellow;\"><b>1</b></td><td>0</td><td>0</td><td>0</td><td>0</td><td>0</td><td>0</td><td>0</td><td>0</td><td>0</td><td>0</td><td>0</td><td>0</td><td>0</td><td>0</td><td>0</td></tr><tr><td>0</td><td>0</td><td>0</td><td>0</td><td>0</td><td>0</td><td>0</td><td>0</td><td>0</td><td style=\"background-color: yellow;\"><b>1</b></td><td>0</td><td>0</td><td>0</td><td>0</td><td>0</td><td>0</td><td>0</td><td>0</td><td>0</td><td>0</td><td>0</td><td>0</td><td>0</td><td>0</td></tr><tr><td>0</td><td>0</td><td>0</td><td>0</td><td>0</td><td>0</td><td>0</td><td>0</td><td>0</td><td>0</td><td style=\"background-color: yellow;\"><b>1</b></td><td>0</td><td>0</td><td>0</td><td>0</td><td>0</td><td>0</td><td>0</td><td>0</td><td>0</td><td>0</td><td>0</td><td>0</td><td>0</td></tr><tr><td>0</td><td>0</td><td>0</td><td>0</td><td>0</td><td>0</td><td>0</td><td>0</td><td>0</td><td>0</td><td>0</td><td style=\"background-color: yellow;\"><b>1</b></td><td>0</td><td>0</td><td>0</td><td>0</td><td>0</td><td>0</td><td>0</td><td>0</td><td>0</td><td>0</td><td>0</td><td>0</td></tr><tr><td>0</td><td>0</td><td>0</td><td>0</td><td>0</td><td>0</td><td>0</td><td>0</td><td>0</td><td>0</td><td>0</td><td>0</td><td style=\"background-color: yellow;\"><b>1</b></td><td>0</td><td>0</td><td>0</td><td>0</td><td>0</td><td>0</td><td>0</td><td>0</td><td>0</td><td>0</td><td>0</td></tr><tr><td>0</td><td>0</td><td>0</td><td>0</td><td>0</td><td>0</td><td>0</td><td>0</td><td>0</td><td>0</td><td>0</td><td>0</td><td>0</td><td style=\"background-color: yellow;\"><b>1</b></td><td>0</td><td>0</td><td>0</td><td>0</td><td>0</td><td>0</td><td>0</td><td>0</td><td>0</td><td>0</td></tr><tr><td>0</td><td>0</td><td>0</td><td>0</td><td>0</td><td>0</td><td>0</td><td>0</td><td>0</td><td>0</td><td>0</td><td>0</td><td>0</td><td>0</td><td style=\"background-color: yellow;\"><b>1</b></td><td>0</td><td>0</td><td>0</td><td>0</td><td>0</td><td>0</td><td>0</td><td>0</td><td>0</td></tr><tr><td>0</td><td>0</td><td>0</td><td>0</td><td>0</td><td>0</td><td>0</td><td>0</td><td>0</td><td>0</td><td>0</td><td>0</td><td>0</td><td>0</td><td>0</td><td style=\"background-color: yellow;\"><b>1</b></td><td>0</td><td>0</td><td>0</td><td>0</td><td>0</td><td>0</td><td>0</td><td>0</td></tr></table>"
      ],
      "text/plain": [
       "<IPython.core.display.HTML object>"
      ]
     },
     "metadata": {},
     "output_type": "display_data"
    }
   ],
   "source": [
    "def get_sub_matrix(z, value):\n",
    "    if value == -1:\n",
    "        submatrix = np.zeros((z, z), dtype=np.float64)\n",
    "    else:\n",
    "        first_row = np.zeros(z, dtype=np.float64)\n",
    "        first_row[value] = 1\n",
    "        submatrix = np.array([np.roll(first_row, i) for i in range(z)], dtype=np.int32)\n",
    "    return submatrix\n",
    "\n",
    "z=24\n",
    "value=16\n",
    "print(\"z:\"+str(z)+\", value:\"+str(value))\n",
    "print(\"submatrix:\")\n",
    "show_array(get_sub_matrix(z, value))"
   ]
  },
  {
   "cell_type": "markdown",
   "id": "8b0e83b0",
   "metadata": {},
   "source": [
    "## get_h_matrix\n",
    "\n",
    "## If z and b_matrix are input, a h-matrix matching the conditions is created.\n",
    "\n",
    "![h matrix equation](img/h_matrix.png)"
   ]
  },
  {
   "cell_type": "code",
   "execution_count": 5,
   "id": "1c42be83",
   "metadata": {
    "scrolled": false
   },
   "outputs": [
    {
     "name": "stdout",
     "output_type": "stream",
     "text": [
      "(96, 576)\n"
     ]
    }
   ],
   "source": [
    "def get_h_matrix(z, b_matrix):\n",
    "    z_0 = 96  # 2304/24\n",
    "    m, n = b_matrix.shape  # b_matrix의 크기\n",
    "    h_matrix = np.zeros((m * z, n * z), dtype=np.float64)\n",
    "\n",
    "    for i in range(m):\n",
    "        for j in range(n):\n",
    "            value = b_matrix[i, j]\n",
    "            if value <= 0:\n",
    "                sub_matrix = get_sub_matrix(z, value)\n",
    "            else: \n",
    "                #equation\n",
    "                value = int((value * z) / z_0)\n",
    "                \n",
    "                sub_matrix = get_sub_matrix(z, value)\n",
    "            h_matrix[i * z:(i + 1) * z, j * z:(j + 1) * z] = sub_matrix\n",
    "\n",
    "    return h_matrix\n",
    "\n",
    "\n",
    "n= 576\n",
    "r= 5/6\n",
    "z, b_matrix = get_base_matrix(n,r)\n",
    "h = get_h_matrix(z, b_matrix)\n",
    "print(h.shape)"
   ]
  },
  {
   "cell_type": "markdown",
   "id": "a40f1c11",
   "metadata": {},
   "source": [
    "# Data generation: Generate an original information block of 𝑘 bits arbitrarily."
   ]
  },
  {
   "cell_type": "code",
   "execution_count": 6,
   "id": "800ad06c",
   "metadata": {},
   "outputs": [
    {
     "name": "stdout",
     "output_type": "stream",
     "text": [
      "[1 0 0 1 1 0 1 0 1 0]\n",
      "[1 0 1 1 0 1 1 1 0 0]\n"
     ]
    }
   ],
   "source": [
    "def get_random_info(k):\n",
    "    return np.random.randint(0, 2, k)\n",
    "\n",
    "print(get_random_info(10))\n",
    "print(get_random_info(10))"
   ]
  },
  {
   "cell_type": "markdown",
   "id": "bf03d32f",
   "metadata": {},
   "source": [
    "# Encoding:  Encode the original data using the parity check matrix 𝐇 through the efficient encoding procedure."
   ]
  },
  {
   "cell_type": "markdown",
   "id": "927ee117",
   "metadata": {},
   "source": [
    "## divide_h_matrix\n",
    "\n",
    "## If z and b_matrix are input, a h-matrix matching the conditions is created.\n",
    "\n",
    "![h matrix equation](img/divid_h_matrix.png)"
   ]
  },
  {
   "cell_type": "code",
   "execution_count": 7,
   "id": "304a9d3c",
   "metadata": {},
   "outputs": [
    {
     "name": "stdout",
     "output_type": "stream",
     "text": [
      "A (264, 288) B (264, 24) T (264, 264) C (24, 288) D (24, 24) E (24, 264)\n"
     ]
    }
   ],
   "source": [
    "@jit(nopython=True)\n",
    "def divide_h_matrix(h_matrix):\n",
    "    m, n = h_matrix.shape\n",
    "    k = n - m\n",
    "    z = int(n/24)\n",
    "    \n",
    "    a = np.ascontiguousarray(h_matrix[:(m-z), :k])\n",
    "    b = np.ascontiguousarray(h_matrix[:(m-z), k:(k+z)])\n",
    "    t = np.ascontiguousarray(h_matrix[:(m-z), -(m-z):])\n",
    "    c = np.ascontiguousarray(h_matrix[(-z):, :k])\n",
    "    d = np.ascontiguousarray(h_matrix[(-z):, k:(k+z)])\n",
    "    e = np.ascontiguousarray(h_matrix[(-z):, -(m-z):])\n",
    "    \n",
    "    return a,b,t,c,d,e\n",
    "\n",
    "n= 576\n",
    "r= 1/2\n",
    "z, b_matrix = get_base_matrix(n,r)\n",
    "h = get_h_matrix(z, b_matrix)\n",
    "a,b,t,c,d,e = divide_h_matrix(h)\n",
    "print(\"A\",a.shape,\"B\",b.shape,\"T\",t.shape,\"C\",c.shape,\"D\",d.shape,\"E\",e.shape)"
   ]
  },
  {
   "cell_type": "markdown",
   "id": "bc68df32",
   "metadata": {},
   "source": [
    "# Efficient LDPC Encoding\n",
    "![h matrix equation](img/Efficient_Encoding.png)\n",
    "\n",
    "## Verify using this formula\n",
    "![h matrix equation](img/verf_Encoding.png)\n",
    "\n"
   ]
  },
  {
   "cell_type": "code",
   "execution_count": 8,
   "id": "e006f944",
   "metadata": {},
   "outputs": [
    {
     "ename": "NameError",
     "evalue": "name 'h_matrix' is not defined",
     "output_type": "error",
     "traceback": [
      "\u001b[1;31m---------------------------------------------------------------------------\u001b[0m",
      "\u001b[1;31mNameError\u001b[0m                                 Traceback (most recent call last)",
      "\u001b[1;32m~\\AppData\\Local\\Temp/ipykernel_97516/1079974932.py\u001b[0m in \u001b[0;36m<module>\u001b[1;34m\u001b[0m\n\u001b[0;32m     30\u001b[0m \u001b[1;33m\u001b[0m\u001b[0m\n\u001b[0;32m     31\u001b[0m \u001b[0mu\u001b[0m \u001b[1;33m=\u001b[0m \u001b[0mget_random_info\u001b[0m\u001b[1;33m(\u001b[0m\u001b[0mint\u001b[0m\u001b[1;33m(\u001b[0m\u001b[0mn\u001b[0m\u001b[1;33m*\u001b[0m\u001b[0mr\u001b[0m\u001b[1;33m)\u001b[0m\u001b[1;33m)\u001b[0m\u001b[1;33m\u001b[0m\u001b[1;33m\u001b[0m\u001b[0m\n\u001b[1;32m---> 32\u001b[1;33m \u001b[0mencoded_data\u001b[0m \u001b[1;33m=\u001b[0m \u001b[0mencoding_data\u001b[0m\u001b[1;33m(\u001b[0m\u001b[0mu\u001b[0m\u001b[1;33m,\u001b[0m\u001b[0mh_matrix\u001b[0m\u001b[1;33m)\u001b[0m\u001b[1;33m\u001b[0m\u001b[1;33m\u001b[0m\u001b[0m\n\u001b[0m\u001b[0;32m     33\u001b[0m \u001b[0mprint\u001b[0m\u001b[1;33m(\u001b[0m\u001b[0mencoded_data\u001b[0m\u001b[1;33m.\u001b[0m\u001b[0mshape\u001b[0m\u001b[1;33m)\u001b[0m\u001b[1;33m\u001b[0m\u001b[1;33m\u001b[0m\u001b[0m\n\u001b[0;32m     34\u001b[0m \u001b[0mshow_array\u001b[0m\u001b[1;33m(\u001b[0m\u001b[1;33m(\u001b[0m\u001b[0mE\u001b[0m \u001b[1;33m@\u001b[0m \u001b[0minv\u001b[0m\u001b[1;33m(\u001b[0m\u001b[0mT\u001b[0m\u001b[1;33m)\u001b[0m \u001b[1;33m@\u001b[0m \u001b[0mB\u001b[0m \u001b[1;33m+\u001b[0m \u001b[0mD\u001b[0m\u001b[1;33m)\u001b[0m \u001b[1;33m%\u001b[0m\u001b[1;36m2\u001b[0m\u001b[1;33m)\u001b[0m\u001b[1;33m\u001b[0m\u001b[1;33m\u001b[0m\u001b[0m\n",
      "\u001b[1;31mNameError\u001b[0m: name 'h_matrix' is not defined"
     ]
    }
   ],
   "source": [
    "def encoding_data(u,h_matrix):\n",
    "    u=u.astype(np.float64)\n",
    "    A, B, T, C, D, E = divide_h_matrix(h_matrix)\n",
    "    \n",
    "    inv_T = inv(T)\n",
    "    return jit_encoding_data(u,A, B, T, C, D, E,inv_T)\n",
    "\n",
    "@jit(nopython=True)\n",
    "def jit_encoding_data(u,A, B, T, C, D, E,inv_T):\n",
    "    \n",
    "    # 행렬 곱셈 최적화\n",
    "    ET_inv_A = E @ inv_T @ A\n",
    "    p1_t = (ET_inv_A + C) @ u.T % 2\n",
    "    \n",
    "    BT_p1t = B @ p1_t\n",
    "    AT_uT = A @ u.T\n",
    "    p2_t = inv_T @ (AT_uT + BT_p1t) % 2\n",
    "  \n",
    "    p1 = p1_t.T\n",
    "    p2 = p2_t.T\n",
    "      \n",
    "    encoded_data = np.concatenate((u, p1, p2))\n",
    "    return encoded_data\n",
    "\n",
    "n= 576\n",
    "r= 1/2\n",
    "z, b_matrix = get_base_matrix(n,r)\n",
    "h = get_h_matrix(z, b_matrix)\n",
    "A,B,T,C,D,E = divide_h_matrix(h)\n",
    "\n",
    "u = get_random_info(int(n*r))\n",
    "encoded_data = encoding_data(u,h_matrix)\n",
    "print(encoded_data.shape)\n",
    "show_array((E @ inv(T) @ B + D) %2)"
   ]
  },
  {
   "cell_type": "markdown",
   "id": "ab0f4079",
   "metadata": {},
   "source": [
    "# Modulation: Modulate each codeword block by BPSK modulation\n",
    "![h matrix equation](img/Modulation.png)"
   ]
  },
  {
   "cell_type": "code",
   "execution_count": null,
   "id": "dff97948",
   "metadata": {
    "scrolled": true
   },
   "outputs": [],
   "source": [
    "#Modulation: Modulate each codeword block by BPSK modulation.\n",
    "# 0 -> -1 , 1 -> 1\n",
    "\n",
    "def BPSK_modulation(input):\n",
    "    return np.where(input == 0, 1, -1)\n",
    "\n",
    "u = get_random_info(20)\n",
    "\n",
    "plt.subplot(2, 1, 1)\n",
    "plt.plot(u, drawstyle='steps-pre')\n",
    "plt.title(\"Original codeword\")\n",
    "plt.xlabel(\"Sample\")\n",
    "plt.ylabel(\"Amplitude\")\n",
    "plt.ylim(-1.5, 1.5)\n",
    "plt.grid(True)\n",
    "\n",
    "bpsk_signal = BPSK_modulation(u)\n",
    "\n",
    "plt.subplot(2, 1, 2)\n",
    "plt.plot(bpsk_signal, drawstyle='steps-pre')\n",
    "plt.title(\"Original BPSK Signal\")\n",
    "plt.xlabel(\"Sample\")\n",
    "plt.ylabel(\"Amplitude\")\n",
    "plt.ylim(-1.5, 1.5)\n",
    "plt.grid(True)\n",
    "plt.tight_layout()\n",
    "plt.show()\n"
   ]
  },
  {
   "cell_type": "markdown",
   "id": "23009ec2",
   "metadata": {},
   "source": [
    "# Transmission: Transmit modulated symbols over \n",
    "# the AWGN channel with the noise power spectral density 𝑁/2. \n",
    "![h matrix equation](img/AWGN.png)\n"
   ]
  },
  {
   "cell_type": "code",
   "execution_count": null,
   "id": "d4bb08a4",
   "metadata": {},
   "outputs": [],
   "source": [
    "# Transmission: Transmit modulated symbols over \n",
    "#the AWGN channel with the noise power spectral density 𝑁/2. \n",
    "\n",
    "def add_awgn_noise(signal, noise_variance ):\n",
    "    noise = np.random.normal(0, np.sqrt(noise_variance), signal.shape)\n",
    "    # 변조된 신호에 잡음 추가\n",
    "    return signal + noise\n",
    "\n",
    "snr_db = 2\n",
    "snr = snr_linear = 10 ** (snr_db / 10)\n",
    "var = 1/2 * 1/r * 1/snr\n",
    "signal_with_noise = add_awgn_noise(bpsk_signal,var)\n",
    "\n",
    "\n",
    "plt.subplot(2, 1, 2)\n",
    "plt.plot(bpsk_signal, drawstyle='steps-pre')\n",
    "plt.title(\"Original BPSK Signal\")\n",
    "plt.xlabel(\"Sample\")\n",
    "plt.ylabel(\"Amplitude\")\n",
    "plt.ylim(-1.5, 1.5)\n",
    "plt.grid(True)\n",
    "plt.tight_layout()\n",
    "plt.show()\n",
    "\n",
    "plt.subplot(2, 1, 2)\n",
    "plt.plot(signal_with_noise, drawstyle='steps-pre')\n",
    "plt.title(\"BPSK Signal with AWGN\")\n",
    "plt.xlabel(\"Sample\")\n",
    "plt.ylabel(\"Amplitude\")\n",
    "plt.ylim(-1.5, 1.5)\n",
    "plt.grid(True)\n",
    "\n",
    "plt.tight_layout()\n",
    "plt.show()"
   ]
  },
  {
   "cell_type": "markdown",
   "id": "c91e0b0c",
   "metadata": {},
   "source": [
    "# Decoding\n",
    "# Decode each received codeword by the iterative message passing algorithm\n"
   ]
  },
  {
   "cell_type": "markdown",
   "id": "a474b600",
   "metadata": {},
   "source": [
    "# Check node message update\n",
    "# func update_ctv\n",
    "![h matrix equation](img/check_meesage.png)"
   ]
  },
  {
   "cell_type": "code",
   "execution_count": null,
   "id": "be2c1f29",
   "metadata": {},
   "outputs": [],
   "source": [
    "@jit(nopython=True)\n",
    "def update_ctv(vtc_message, c ,v, v_node_indexes):\n",
    "    message = 1\n",
    "    for i in v_node_indexes:\n",
    "        if i == v:\n",
    "            continue #ingnore\n",
    "        message *=  np.tanh(vtc_message[i,c] * 1/2)\n",
    "        \n",
    "    message = np.log((1+message)/(1-message))\n",
    "    return message"
   ]
  },
  {
   "cell_type": "markdown",
   "id": "ccf364d2",
   "metadata": {},
   "source": [
    "# Variable node message update\n",
    "\n",
    "# func update_vtc\n",
    "![h matrix equation](img/variable_meesage.png)\n"
   ]
  },
  {
   "cell_type": "code",
   "execution_count": null,
   "id": "8e11a3d6",
   "metadata": {},
   "outputs": [],
   "source": [
    "@jit(nopython=True)\n",
    "def update_vtc(ctv_message, v, c, c_node_indexes):\n",
    "    \n",
    "    #get v_message\n",
    "    tmp = 0\n",
    "    for i in c_node_indexes:\n",
    "        if i == c:\n",
    "            continue #ingnore\n",
    "        tmp += ctv_message[i,v]\n",
    "        \n",
    "    return tmp"
   ]
  },
  {
   "cell_type": "markdown",
   "id": "59a8180b",
   "metadata": {},
   "source": [
    "# LLR update\n",
    "\n",
    "# func update_LLR\n",
    "![h matrix equation](img/LLR_meesage.png)"
   ]
  },
  {
   "cell_type": "code",
   "execution_count": null,
   "id": "9a846046",
   "metadata": {},
   "outputs": [],
   "source": [
    "@jit(nopython=True)\n",
    "def update_LLR(ctv_message, v, c_node_indexes):\n",
    "    tmp = 0\n",
    "    for i in c_node_indexes:\n",
    "        tmp += ctv_message[i,v]     \n",
    "    return tmp"
   ]
  },
  {
   "cell_type": "markdown",
   "id": "5a1dd1c6",
   "metadata": {},
   "source": [
    "# Iterative decoding process\n",
    "\n",
    "![h matrix equation](img/iter.png)\n",
    "![h matrix equation](img/qv.png)"
   ]
  },
  {
   "cell_type": "code",
   "execution_count": null,
   "id": "42742f32",
   "metadata": {
    "scrolled": true
   },
   "outputs": [],
   "source": [
    "#Decoding: Decode each received codeword by the iterative message passing algorithm\n",
    "# Iterative message passing\n",
    "# Maximum number of iterations: 50\n",
    "\n",
    "@jit(nopython=True)\n",
    "def hamming_distance(matrix1, matrix2):\n",
    "    distance = np.sum(matrix1 != matrix2)\n",
    "    return distance\n",
    "\n",
    "@jit(nopython=True)\n",
    "def decoding(recived_symbol, H, var):\n",
    "    max_iter = 10\n",
    "    H_float64 = H.astype(np.float64)\n",
    "    v_nodes = 2 * recived_symbol / var\n",
    "    \n",
    "    LLR = np.zeros(v_nodes.shape)\n",
    "    vtc_message=[]\n",
    "    ctv_message=[]\n",
    "    \n",
    "    #vertex index\n",
    "    c_to_v = [np.where(H[i, :] == 1)[0] for i in range(H.shape[0])]\n",
    "    v_to_c = [np.where(H[:, i] == 1)[0] for i in range(H.shape[1])]\n",
    "    \n",
    "    # 메시지를 넘파이 배열로 저장\n",
    "    ctv_message = np.zeros((H.shape[0], H.shape[1]))\n",
    "    vtc_message = np.zeros((H.shape[1], H.shape[0]))\n",
    "\n",
    "    #Initialization: Assign the channel LLR 𝑞 to variable node 𝑣 as its initial message.\n",
    "    for v in range(H.shape[1]):\n",
    "        c_node_indexes = v_to_c[v]\n",
    "        for c in c_node_indexes:\n",
    "            vtc_message[v,c] = v_nodes[v]\n",
    "            \n",
    "    for i in range(max_iter):\n",
    "            \n",
    "        #2. Check node message update: check node 𝑐 → variable node \n",
    "        for c in range(H.shape[0]):\n",
    "            # c노드와 연결된 v노드 확인\n",
    "            v_node_indexes= c_to_v[c]\n",
    "            #c 노드의 연결된 노드 선택\n",
    "            for v in v_node_indexes :\n",
    "                ctv_message[c,v] = update_ctv(vtc_message, c, v, v_node_indexes)\n",
    "        \n",
    "        codeword = np.zeros(H.shape[1])\n",
    "        for v in range(H.shape[1]):\n",
    "            # v노드와 연결된 c노드 확인\n",
    "            c_node_indexes= v_to_c[v]\n",
    "            #v 노드의 연결된 노드 선택\n",
    "            #3. Variable node message update: variable node 𝑣 → check node c\n",
    "            for c in c_node_indexes :\n",
    "                vtc_message[v,c] = v_nodes[v] + update_vtc(ctv_message, v, c, c_node_indexes)\n",
    "            \n",
    "            #4. LLR update: Update LLR at variable node 𝑣.\n",
    "            LLR[v] = v_nodes[v] + update_LLR(ctv_message, v, c_node_indexes)\n",
    "            #5. Hard decision of coded bit\n",
    "            codeword[v] = 0 if LLR[v] > 0 else 1\n",
    "                      \n",
    "        #6. Error detection\n",
    "        result = (H_float64 @ codeword.T) %2\n",
    "        #print(np.sum(result))\n",
    "        if np.all(result == 0):\n",
    "            break\n",
    " \n",
    "    return codeword\n"
   ]
  },
  {
   "cell_type": "markdown",
   "id": "3e2d7e9f",
   "metadata": {},
   "source": [
    "# Misson 1 code"
   ]
  },
  {
   "cell_type": "code",
   "execution_count": null,
   "id": "154f797d",
   "metadata": {},
   "outputs": [],
   "source": [
    "#Step 1\n",
    "n= 576\n",
    "r= 1/2 \n",
    "k= int(n*r)\n",
    "\n",
    "# Parity Check Matrix: Choose a code rate 𝑅 and determine the base matrix \n",
    "#to be expanded to the parity check matrix 𝐇.\n",
    "z, b_matrix  = get_base_matrix(n,r)\n",
    "h_matrix = get_h_matrix(z, b_matrix)\n",
    "\n",
    "#Data generation: Generate an original information block of 𝑘𝑘 bits \n",
    "data = get_random_info(k)\n",
    "\n",
    "#Encoding: Encode the original data using the parity check matrix \n",
    "#𝐇 through the efficient encoding procedure.\n",
    "\n",
    "\n",
    "#snrs = np.arange(0.5, 5, 0.5)\n",
    "snrs_db = np.arange(-1, 2.0, 0.5)\n",
    "snrs = snr_linear = 10 ** (snrs_db / 10)\n",
    "\n",
    "ldpc_bit_error_counts = np.zeros_like(snrs)\n",
    "bpsk_bit_error_counts = np.zeros_like(snrs)\n",
    "total_bits_counts = np.zeros_like(snrs)\n",
    "max_bit_errors = 1000  # 각 SNR에 대해 찾을 비트 에러의 최대 수\n",
    "max_bit_simulated= 100000\n",
    "\n",
    "for idx, snr in enumerate(snrs):\n",
    "    ldpc_bit_errors = 0\n",
    "    bpsk_bit_errors = 0\n",
    "    total_bits_simulated = 0\n",
    "    var = 1/2 * 1/r * 1/snr\n",
    "    #print(snr)\n",
    "    \n",
    "    data = get_random_info(k)\n",
    "    codeword = encoding_data(data,h_matrix)\n",
    "    bpsk_signal = BPSK_modulation(codeword)\n",
    "    while ldpc_bit_errors < max_bit_errors or bpsk_bit_errors < max_bit_errors or total_bits_simulated < max_bit_simulated :\n",
    "        \n",
    "        signal_with_noise = add_awgn_noise(bpsk_signal, var)    \n",
    "        decoded_output = decoding(signal_with_noise, h_matrix, var)  \n",
    "        ldpc_bit_errors += hamming_distance(data, decoded_output[:k])\n",
    "        \n",
    "        noisy_data = signal_with_noise[:k]\n",
    "        uncoded = np.array(noisy_data < 0, dtype=int)\n",
    "        bpsk_bit_errors += hamming_distance(data, uncoded)\n",
    "\n",
    "        total_bits_simulated += k\n",
    "\n",
    "    ldpc_bit_error_counts[idx] = ldpc_bit_errors\n",
    "    bpsk_bit_error_counts[idx] = bpsk_bit_errors\n",
    "    total_bits_counts[idx] = total_bits_simulated\n",
    "   "
   ]
  },
  {
   "cell_type": "code",
   "execution_count": null,
   "id": "94bf37f7",
   "metadata": {},
   "outputs": [],
   "source": [
    "#Performance Evaluation\n",
    "# 비트 에러 확률 계산\n",
    "ldpc_bit_error_probabilities = ldpc_bit_error_counts / total_bits_counts\n",
    "bpsk_bit_error_probabilities = bpsk_bit_error_counts / total_bits_counts\n",
    "\n",
    "# 비트 에러 확률 플롯\n",
    "plt.yscale('log')\n",
    "plt.plot(snrs_db, ldpc_bit_error_probabilities, label='LDPC Coded BPSK with n='+str(n)+', r='+str(r))\n",
    "plt.plot(snrs_db, bpsk_bit_error_probabilities, label='Uncoded BPSK')\n",
    "plt.xlabel('Eb/N0 (dB)')\n",
    "plt.ylabel('Bit Error Probability')\n",
    "plt.title('Bit Error Probability over Eb/N0')\n",
    "plt.legend()\n",
    "plt.grid(True, which=\"both\")  # 메이저와 마이너 그리드 모두 표시\n",
    "plt.show()"
   ]
  },
  {
   "cell_type": "code",
   "execution_count": null,
   "id": "0e8c89fb",
   "metadata": {},
   "outputs": [],
   "source": [
    "# 비트 집합을 이미지로 변환\n",
    "\n",
    "def bits_to_image(bit_set,shape):\n",
    "    # 비트 집합을 다시 넘파이 배열로 변환')\n",
    "    #print(bit_set.shape)\n",
    "    image_array = np.packbits(bit_set.astype(int)).reshape(shape)\n",
    "    \n",
    "    # 넘파이 배열을 이미지로 변환\n",
    "    image = Image.fromarray(image_array)\n",
    "    \n",
    "    return image\n",
    "def blocks_to_bit(blocks,bit_size):\n",
    "    return blocks.flatten()[:bit_size]\n",
    "\n",
    "def block_img(data, h):\n",
    "    codeword_len = h.shape[0]\n",
    "    data_len = len(data)\n",
    "    \n",
    "    # 블록 개수 계산\n",
    "    num_blocks = data_len // codeword_len + (data_len % codeword_len != 0)  # 나머지가 있는 경우 1을 더해 마지막 블록 생성\n",
    "    \n",
    "    # 블록들을 저장할 배열 생성\n",
    "    blocks = np.zeros([num_blocks, codeword_len])\n",
    "    \n",
    "    for i in range(num_blocks):\n",
    "        start_idx = i * codeword_len\n",
    "        end_idx = min((i + 1) * codeword_len, data_len)\n",
    "        \n",
    "        # 데이터 슬라이싱\n",
    "        block = data[start_idx:end_idx]\n",
    "        \n",
    "        # 마지막 블록인 경우 빈 공간을 0으로 채우기\n",
    "        if len(block) < codeword_len:\n",
    "            padding_len = codeword_len - len(block)\n",
    "            block = np.concatenate((block, np.zeros(padding_len, dtype=int)))\n",
    "        \n",
    "        blocks[i] = block\n",
    "    \n",
    "    return blocks\n",
    "\n",
    "def ldpc_encode_image_blocks(image_blocks, h_matrix, var):\n",
    "    num_blocks = len(image_blocks)\n",
    "    block_len = h_matrix.shape[1]  # 가정: 인코딩된 블록의 길이는 h_matrix의 열 길이와 같음\n",
    "\n",
    "    # NumPy 배열로 초기화\n",
    "    encoded_blocks = np.zeros((num_blocks, block_len), dtype=np.float64)\n",
    "    uncoded_blocks = np.zeros(image_blocks.shape, dtype=np.float64)\n",
    "\n",
    "    for i in range(num_blocks):\n",
    "        block = image_blocks[i]\n",
    "        ldpc_codeword = encoding_data(block, h_matrix)\n",
    "        ldpc_codeword = BPSK_modulation(ldpc_codeword)\n",
    "        signal_with_noise = add_awgn_noise(ldpc_codeword, var)\n",
    "\n",
    "        # NumPy 배열에 값 할당\n",
    "        encoded_blocks[i] = signal_with_noise\n",
    "        uncoded_blocks[i] = signal_with_noise[:len(block)]\n",
    "\n",
    "    return encoded_blocks, uncoded_blocks\n",
    "\n",
    "def ldpc_decode_image_blocks(encoded_blocks, h_matrix, var):\n",
    "    num_blocks = encoded_blocks.shape[0]\n",
    "    block_len = h_matrix.shape[0]\n",
    "    decoded_result = np.zeros((num_blocks, block_len), dtype=np.float64)\n",
    "\n",
    "    for i in range(num_blocks):\n",
    "        decoded_output = decoding(encoded_blocks[i], h_matrix, var)\n",
    "        decoded_result[i] = decoded_output[:block_len]\n",
    "\n",
    "    return decoded_result\n",
    "\n",
    "#mission3\n",
    "# 이미지 파일 열기 (컬러 이미지)\n",
    "image = Image.open('img/input.jpg')  # 이미지 파일명을 적절히 변경하세요.\\\n",
    "print(\"origin image\")\n",
    "display(image)\n",
    "# 이미지를 넘파이 배열로 변환\n",
    "image_array = np.array(image)\n",
    "img_shape = image_array.shape\n",
    "#print(image_array.shape)\n",
    "# 넘파이 배열로 변환된 이미지를 비트 집합으로 변환\n",
    "img_bit= np.unpackbits(image_array)\n",
    "img_blocks = block_img(img_bit,h_matrix)\n",
    "np.packbits(img_bit)\n",
    "\n",
    "#snrs = np.arange(0.5, 5, 0.5)\n",
    "snrs_db = np.arange(0, 3, 1)\n",
    "snrs = snr_linear = 10 ** (snrs_db / 10)\n",
    "\n",
    "uncoded_imgs=[]\n",
    "decoded_imgs =[]\n",
    "\n",
    "for idx, snr in enumerate(snrs):\n",
    "    var = 1/2 * 1/r * 1/snr\n",
    "    #print(\"encoding\")\n",
    "    encoded_blocks, uncoded_blocks = ldpc_encode_image_blocks(img_blocks, h_matrix,var)\n",
    "    \n",
    "    #print(\"decoding\")\n",
    "    decoded_result = ldpc_decode_image_blocks(encoded_blocks, h_matrix, var)\n",
    "    decoded_bits = blocks_to_bit(decoded_result,len(img_bit))\n",
    "    decoded_img = bits_to_image(decoded_bits,img_shape)    \n",
    "    \n",
    "    uncoded_result = np.array(uncoded_blocks < 0, dtype=int)\n",
    "    uncoded_bits = blocks_to_bit(uncoded_result,len(img_bit))\n",
    "    uncoded_img = bits_to_image(uncoded_bits,img_shape)\n",
    "    \n",
    "    uncoded_imgs.append(uncoded_img)\n",
    "    decoded_imgs.append(decoded_img)\n",
    "    "
   ]
  },
  {
   "cell_type": "code",
   "execution_count": null,
   "id": "fbc29152",
   "metadata": {},
   "outputs": [],
   "source": [
    "# 이미지 비교를 위한 시각화\n",
    "num_images = len(snrs)\n",
    "fig, axes = plt.subplots(num_images, 2, figsize=(10, num_images * 5))\n",
    "\n",
    "for idx in range(num_images):\n",
    "    # 원본 이미지 표시\n",
    "    axes[idx, 0].imshow(uncoded_imgs[idx])\n",
    "    axes[idx, 0].set_title(f\"SNR: {snrs_db[idx]} - Uncoded Image\")\n",
    "    axes[idx, 0].axis('off')  # 축 표시 제거\n",
    "\n",
    "    # 디코딩된 이미지 표시\n",
    "    axes[idx, 1].imshow(decoded_imgs[idx])\n",
    "    axes[idx, 1].set_title(f\"SNR: {snrs_db[idx]} - LDPC Decoded Image with n=\"+str(n)+', r='+str(r) )\n",
    "    axes[idx, 1].axis('off')  # 축 표시 제거\n",
    "\n",
    "plt.suptitle(\"Comparison of Uncoded and Decoded Images at Different SNRs\")\n",
    "plt.show()"
   ]
  }
 ],
 "metadata": {
  "kernelspec": {
   "display_name": "Python 3 (ipykernel)",
   "language": "python",
   "name": "python3"
  },
  "language_info": {
   "codemirror_mode": {
    "name": "ipython",
    "version": 3
   },
   "file_extension": ".py",
   "mimetype": "text/x-python",
   "name": "python",
   "nbconvert_exporter": "python",
   "pygments_lexer": "ipython3",
   "version": "3.9.7"
  }
 },
 "nbformat": 4,
 "nbformat_minor": 5
}
