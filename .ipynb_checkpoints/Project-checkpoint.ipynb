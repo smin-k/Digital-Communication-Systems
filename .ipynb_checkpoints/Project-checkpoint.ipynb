{
 "cells": [
  {
   "cell_type": "markdown",
   "id": "0d8a620d",
   "metadata": {
    "id": "0d8a620d"
   },
   "source": [
    "# Digital Communication Systems Project: Implementation of LDPC Code\n",
    "\n",
    "## Seungmin Kim\n",
    "## EECS 20224026\n",
    "### https://github.com/smin-k/Digital-Communication-Systems\n",
    "### https://drive.google.com/file/d/12fdg7anOlGf18RMnZ3Pqftbm412EmCSk/view?usp=sharing"
   ]
  },
  {
   "cell_type": "markdown",
   "id": "69fdd1a4",
   "metadata": {
    "id": "69fdd1a4"
   },
   "source": [
    "# Mission 1  \n",
    "## Evaluate the bit error probability of the IEEE standard 802.16e LDPC code  "
   ]
  },
  {
   "cell_type": "code",
   "execution_count": 1,
   "id": "6cf82b31",
   "metadata": {
    "executionInfo": {
     "elapsed": 1139,
     "status": "ok",
     "timestamp": 1702292468578,
     "user": {
      "displayName": "김승민",
      "userId": "06799525612293914117"
     },
     "user_tz": -540
    },
    "id": "6cf82b31"
   },
   "outputs": [],
   "source": [
    "import math\n",
    "import random\n",
    "import numpy as np\n",
    "import matplotlib.pyplot as plt\n",
    "from numpy.linalg import inv\n",
    "from scipy.special import erfc\n",
    "from PIL import Image\n",
    "from numba import jit, prange\n",
    "from IPython.display import HTML\n",
    "\n",
    "def show_array(array):\n",
    "    html = '<table><tr>{}</tr></table>'.format(\n",
    "        '</tr><tr>'.join(\n",
    "            ''.join('<td style=\"background-color: yellow;\"><b>{}</b></td>'.format(_) if _ != 0 else '<td>{}</td>'.format(_) for _ in row) for row in array\n",
    "        )\n",
    "    )\n",
    "\n",
    "    display(HTML(html))"
   ]
  },
  {
   "cell_type": "markdown",
   "id": "9c36b165",
   "metadata": {
    "id": "9c36b165"
   },
   "source": [
    "# Parity Check Matrix: Choose a code rate 𝑅 and determine the base matrix\n",
    "\n",
    "## I took and used all the default matrices provided in 802.16e.\n",
    "\n",
    "## base matrix list"
   ]
  },
  {
   "cell_type": "code",
   "execution_count": 2,
   "id": "ce0394e9",
   "metadata": {
    "executionInfo": {
     "elapsed": 502,
     "status": "ok",
     "timestamp": 1702292469072,
     "user": {
      "displayName": "김승민",
      "userId": "06799525612293914117"
     },
     "user_tz": -540
    },
    "id": "ce0394e9",
    "scrolled": true
   },
   "outputs": [],
   "source": [
    "hb_matrix_12 = np.array([\n",
    "    [-1,  94,  73,  -1,  -1,  -1,  -1,  -1,  55,  83,  -1,  -1,  7,    0,  -1,  -1,  -1,  -1,  -1,  -1,  -1,  -1,  -1,  -1],\n",
    "    [-1,  27,  -1,  -1,  -1,  22,  79,   9,  -1,  -1,  -1,  12,  -1,   0,   0,  -1,  -1,  -1,  -1,  -1,  -1,  -1,  -1,  -1],\n",
    "    [-1,  -1,  -1,  24,  22,  81,  -1,  33,  -1,  -1,  -1,   0,  -1,  -1,   0,   0,  -1,  -1,  -1,  -1,  -1,  -1,  -1,  -1],\n",
    "    [61,  -1,  47,  -1,  -1,  -1,  -1,  -1,  65,  25,  -1,  -1,  -1,  -1,  -1,   0,   0,  -1,  -1,  -1,  -1,  -1,  -1,  -1],\n",
    "    [-1,  -1,  39,  -1,  -1,  -1,  84,  -1,  -1,  41,  72,  -1,  -1,  -1,  -1,  -1,   0,   0,  -1,  -1,  -1,  -1,  -1,  -1],\n",
    "    [-1,  -1,  -1,  -1,  46,  40,  -1,  82,  -1,  -1,  -1,  79,   0,  -1,  -1,  -1,  -1,   0,   0,  -1,  -1,  -1,  -1,  -1],\n",
    "    [-1,  -1,  95,  53,  -1,  -1,  -1,  -1,  -1,  14,  18,  -1,  -1,  -1,  -1,  -1,  -1,  -1,   0,   0,  -1,  -1,  -1,  -1],\n",
    "    [-1,  11,  73,  -1,  -1,  -1,   2,  -1,  -1,  47,  -1,  -1,  -1,  -1,  -1,  -1,  -1,  -1,  -1,   0,   0,  -1,  -1,  -1],\n",
    "    [12,  -1,  -1,  -1,  83,  24,  -1,  43,  -1,  -1,  -1,  51,  -1,  -1,  -1,  -1,  -1,  -1,  -1,  -1,   0,   0,  -1,  -1],\n",
    "    [-1,  -1,  -1,  -1,  -1,  94,  -1,  59,  -1,  -1,  70,  72,  -1,  -1,  -1,  -1,  -1,  -1,  -1,  -1,  -1,   0,   0,  -1],\n",
    "    [-1,  -1,   7,  65,  -1,  -1,  -1,  -1,  39,  49,  -1,  -1,  -1,  -1,  -1,  -1,  -1,  -1,  -1,  -1,  -1,  -1,   0,   0],\n",
    "    [43,  -1,  -1,  -1,  -1,  66,  -1,  41,  -1,  -1,  -1,  26,   7,  -1,  -1,  -1,  -1,  -1,  -1,  -1,  -1,  -1,  -1,  0 ]\n",
    "])\n",
    "\n",
    "#23b\n",
    "hb_matrix_23 = [\n",
    "    [ 2,  -1,  19,  -1,  47,  -1,  48,  -1,  36,  -1,  82,  -1,  47,  -1,  15,  -1,  95,   0,  -1,  -1,  -1,  -1,  -1,  -1],\n",
    "    [-1,  69,  -1,  88,  -1,  33,  -1,   3,  -1,  16,  -1,  37,  -1,  40,  -1,  48,  -1,   0,   0,  -1,  -1,  -1,  -1,  -1],\n",
    "    [10,  -1,  86,  -1,  62,  -1,  28,  -1,  85,  -1,  16,  -1,  34,  -1,  73,  -1,  -1,  -1,   0,   0,  -1,  -1,  -1,  -1],\n",
    "    [-1,  28,  -1,  32,  -1,  81,  -1,  27,  -1,  88,  -1,   5,  -1,  56,  -1,  37,  -1,  -1,  -1,   0,   0,  -1,  -1,  -1],\n",
    "    [23,  -1,  29,  -1,  15,  -1,  30,  -1,  66,  -1,  24,  -1,  50,  -1,  62,  -1,  -1,  -1,  -1,  -1,   0,   0,  -1,  -1],\n",
    "    [-1,  30,  -1,  65,  -1,  54,  -1,  14,  -1,   0,  -1,  30,  -1,  74,  -1,   0,  -1,  -1,  -1,  -1,  -1,   0,   0,  -1],\n",
    "    [32,  -1,   0,  -1,  15,  -1,  56,  -1,  85,  -1,   5,  -1,   6,  -1,  52,  -1,   0,  -1,  -1,  -1,  -1,  -1,   0,   0],\n",
    "    [-1,   0,  -1,  47,  -1,  13,  -1,  61,  -1,  84,  -1,  55,  -1,  78,  -1,  41,  95,  -1,  -1,  -1,  -1,  -1,  -1,   0]\n",
    "]\n",
    "\n",
    "#34a\n",
    "hb_matrix_34 = np.array([\n",
    "    [ 6,  38,   3,  93,  -1,  -1,  -1,  30,  70,  -1,  86,  -1,  37,  38,   4,  11,  -1,  46,  48,   0,  -1,  -1,  -1,  -1],\n",
    "    [62,  94,  19,  84,  -1,  92,  78,  -1,  15,  -1,  -1,  92,  -1,  45,  24,  32,  30,  -1,  -1,   0,   0,  -1,  -1,  -1],\n",
    "    [71,  -1,  55,  -1,  12,  66,  45,  79,  -1,  78,  -1,  -1,  10,  -1,  22,  55,  70,  82,  -1,  -1,   0,   0,  -1,  -1],\n",
    "    [38,  61,  -1,  66,   9,  73,  47,  64,  -1,  39,  61,  43,  -1,  -1,  -1,  -1,  95,  32,   0,  -1,  -1,   0,   0,  -1],\n",
    "    [-1,  -1,  -1,  -1,  32,  52,  55,  80,  95,  22,   6,  51,  24,  90,  44,  20,  -1,  -1,  -1,  -1,  -1,  -1,   0,   0],\n",
    "    [-1,  63,  31,  88,  20,  -1,  -1,  -1,   6,  40,  56,  16,  71,  53,  -1,  -1,  27,  26,  48,  -1,  -1,  -1,  -1,   0]\n",
    "])\n",
    "\n",
    "hb_matrix_56 = np.array([\n",
    "    [ 1, 25, 55, -1,  47,   4,  -1,  91,  84,   8,  86,  52,  82,  33,   5,   0,  36,  20,   4,  77,  80,   0,  -1,  -1],\n",
    "    [-1,  6, -1, 36,  40,  47,  12,  79,  47,  -1,  41,  21,  12,  71,  14,  72,   0,  44,  49,   0,   0,   0,   0,  -1],\n",
    "    [51, 81, 83,  4,  67,  -1,  21,  -1,  31,  24,  91,  61,  81,   9,  86,  78,  60,  88,  67,  15,  -1,  -1,   0,   0],\n",
    "    [50, -1, 50, 15,  -1,  36,  13,  10,  11,  20,  53,  90,  29,  92,  57,  30,  84,  92,  11,  66,  80,  -1,  -1,   0]\n",
    "])\n"
   ]
  },
  {
   "cell_type": "markdown",
   "id": "d2e0ae9d",
   "metadata": {
    "id": "d2e0ae9d"
   },
   "source": [
    "## func get_base_matrix\n",
    "\n",
    "## Entering n and r will retrieve the z value and base matrix that match the conditions.\n",
    "<img src=\"https://raw.githubusercontent.com/smin-k/Digital-Communication-Systems/main/img/base_matrix.png\" />"
   ]
  },
  {
   "cell_type": "code",
   "execution_count": 23,
   "id": "860baf2e",
   "metadata": {
    "colab": {
     "base_uri": "https://localhost:8080/",
     "height": 138
    },
    "executionInfo": {
     "elapsed": 14,
     "status": "ok",
     "timestamp": 1702292469072,
     "user": {
      "displayName": "김승민",
      "userId": "06799525612293914117"
     },
     "user_tz": -540
    },
    "id": "860baf2e",
    "outputId": "a9e47225-e097-436e-9b0b-d943522ce944"
   },
   "outputs": [
    {
     "name": "stdout",
     "output_type": "stream",
     "text": [
      "n:576, r:0.8333333333333334\n",
      "z:24\n"
     ]
    },
    {
     "data": {
      "text/html": [
       "<table><tr><td style=\"background-color: yellow;\"><b>1</b></td><td style=\"background-color: yellow;\"><b>25</b></td><td style=\"background-color: yellow;\"><b>55</b></td><td style=\"background-color: yellow;\"><b>-1</b></td><td style=\"background-color: yellow;\"><b>47</b></td><td style=\"background-color: yellow;\"><b>4</b></td><td style=\"background-color: yellow;\"><b>-1</b></td><td style=\"background-color: yellow;\"><b>91</b></td><td style=\"background-color: yellow;\"><b>84</b></td><td style=\"background-color: yellow;\"><b>8</b></td><td style=\"background-color: yellow;\"><b>86</b></td><td style=\"background-color: yellow;\"><b>52</b></td><td style=\"background-color: yellow;\"><b>82</b></td><td style=\"background-color: yellow;\"><b>33</b></td><td style=\"background-color: yellow;\"><b>5</b></td><td>0</td><td style=\"background-color: yellow;\"><b>36</b></td><td style=\"background-color: yellow;\"><b>20</b></td><td style=\"background-color: yellow;\"><b>4</b></td><td style=\"background-color: yellow;\"><b>77</b></td><td style=\"background-color: yellow;\"><b>80</b></td><td>0</td><td style=\"background-color: yellow;\"><b>-1</b></td><td style=\"background-color: yellow;\"><b>-1</b></td></tr><tr><td style=\"background-color: yellow;\"><b>-1</b></td><td style=\"background-color: yellow;\"><b>6</b></td><td style=\"background-color: yellow;\"><b>-1</b></td><td style=\"background-color: yellow;\"><b>36</b></td><td style=\"background-color: yellow;\"><b>40</b></td><td style=\"background-color: yellow;\"><b>47</b></td><td style=\"background-color: yellow;\"><b>12</b></td><td style=\"background-color: yellow;\"><b>79</b></td><td style=\"background-color: yellow;\"><b>47</b></td><td style=\"background-color: yellow;\"><b>-1</b></td><td style=\"background-color: yellow;\"><b>41</b></td><td style=\"background-color: yellow;\"><b>21</b></td><td style=\"background-color: yellow;\"><b>12</b></td><td style=\"background-color: yellow;\"><b>71</b></td><td style=\"background-color: yellow;\"><b>14</b></td><td style=\"background-color: yellow;\"><b>72</b></td><td>0</td><td style=\"background-color: yellow;\"><b>44</b></td><td style=\"background-color: yellow;\"><b>49</b></td><td>0</td><td>0</td><td>0</td><td>0</td><td style=\"background-color: yellow;\"><b>-1</b></td></tr><tr><td style=\"background-color: yellow;\"><b>51</b></td><td style=\"background-color: yellow;\"><b>81</b></td><td style=\"background-color: yellow;\"><b>83</b></td><td style=\"background-color: yellow;\"><b>4</b></td><td style=\"background-color: yellow;\"><b>67</b></td><td style=\"background-color: yellow;\"><b>-1</b></td><td style=\"background-color: yellow;\"><b>21</b></td><td style=\"background-color: yellow;\"><b>-1</b></td><td style=\"background-color: yellow;\"><b>31</b></td><td style=\"background-color: yellow;\"><b>24</b></td><td style=\"background-color: yellow;\"><b>91</b></td><td style=\"background-color: yellow;\"><b>61</b></td><td style=\"background-color: yellow;\"><b>81</b></td><td style=\"background-color: yellow;\"><b>9</b></td><td style=\"background-color: yellow;\"><b>86</b></td><td style=\"background-color: yellow;\"><b>78</b></td><td style=\"background-color: yellow;\"><b>60</b></td><td style=\"background-color: yellow;\"><b>88</b></td><td style=\"background-color: yellow;\"><b>67</b></td><td style=\"background-color: yellow;\"><b>15</b></td><td style=\"background-color: yellow;\"><b>-1</b></td><td style=\"background-color: yellow;\"><b>-1</b></td><td>0</td><td>0</td></tr><tr><td style=\"background-color: yellow;\"><b>50</b></td><td style=\"background-color: yellow;\"><b>-1</b></td><td style=\"background-color: yellow;\"><b>50</b></td><td style=\"background-color: yellow;\"><b>15</b></td><td style=\"background-color: yellow;\"><b>-1</b></td><td style=\"background-color: yellow;\"><b>36</b></td><td style=\"background-color: yellow;\"><b>13</b></td><td style=\"background-color: yellow;\"><b>10</b></td><td style=\"background-color: yellow;\"><b>11</b></td><td style=\"background-color: yellow;\"><b>20</b></td><td style=\"background-color: yellow;\"><b>53</b></td><td style=\"background-color: yellow;\"><b>90</b></td><td style=\"background-color: yellow;\"><b>29</b></td><td style=\"background-color: yellow;\"><b>92</b></td><td style=\"background-color: yellow;\"><b>57</b></td><td style=\"background-color: yellow;\"><b>30</b></td><td style=\"background-color: yellow;\"><b>84</b></td><td style=\"background-color: yellow;\"><b>92</b></td><td style=\"background-color: yellow;\"><b>11</b></td><td style=\"background-color: yellow;\"><b>66</b></td><td style=\"background-color: yellow;\"><b>80</b></td><td style=\"background-color: yellow;\"><b>-1</b></td><td style=\"background-color: yellow;\"><b>-1</b></td><td>0</td></tr></table>"
      ],
      "text/plain": [
       "<IPython.core.display.HTML object>"
      ]
     },
     "metadata": {},
     "output_type": "display_data"
    }
   ],
   "source": [
    "hb_matrix_dic = { 1/2 : hb_matrix_12, 2/3 : hb_matrix_23 , 3/4 : hb_matrix_34, 5/6 : hb_matrix_56 }\n",
    "\n",
    "def get_base_matrix(n,r):\n",
    "    k = n * r\n",
    "    z = int(n/24)\n",
    "\n",
    "    b_matrix = hb_matrix_dic[r]\n",
    "    return z, b_matrix\n",
    "\n",
    "n= 576\n",
    "r= 5/6\n",
    "print(\"n:\"+str(n)+\", r:\"+str(r))\n",
    "print(\"z:\"+str(get_base_matrix(n,r)[0]))\n",
    "show_array(get_base_matrix(n,r)[1])"
   ]
  },
  {
   "cell_type": "markdown",
   "id": "6941a260",
   "metadata": {
    "id": "6941a260"
   },
   "source": [
    "## func get_sub_matrix\n",
    "\n",
    "## input z and value will retrieve the z value and base matrix that match the conditions.\n",
    "<img src=\"https://raw.githubusercontent.com/smin-k/Digital-Communication-Systems/main/img/sub_matrix.png\" />"
   ]
  },
  {
   "cell_type": "code",
   "execution_count": 4,
   "id": "178df87d",
   "metadata": {
    "colab": {
     "base_uri": "https://localhost:8080/",
     "height": 550
    },
    "executionInfo": {
     "elapsed": 10,
     "status": "ok",
     "timestamp": 1702292469072,
     "user": {
      "displayName": "김승민",
      "userId": "06799525612293914117"
     },
     "user_tz": -540
    },
    "id": "178df87d",
    "outputId": "12590338-0573-4eb4-9e29-25227dee08fc"
   },
   "outputs": [
    {
     "name": "stdout",
     "output_type": "stream",
     "text": [
      "z:24, value:16\n",
      "submatrix:\n"
     ]
    },
    {
     "data": {
      "text/html": [
       "<table><tr><td>0</td><td>0</td><td>0</td><td>0</td><td>0</td><td>0</td><td>0</td><td>0</td><td>0</td><td>0</td><td>0</td><td>0</td><td>0</td><td>0</td><td>0</td><td>0</td><td style=\"background-color: yellow;\"><b>1</b></td><td>0</td><td>0</td><td>0</td><td>0</td><td>0</td><td>0</td><td>0</td></tr><tr><td>0</td><td>0</td><td>0</td><td>0</td><td>0</td><td>0</td><td>0</td><td>0</td><td>0</td><td>0</td><td>0</td><td>0</td><td>0</td><td>0</td><td>0</td><td>0</td><td>0</td><td style=\"background-color: yellow;\"><b>1</b></td><td>0</td><td>0</td><td>0</td><td>0</td><td>0</td><td>0</td></tr><tr><td>0</td><td>0</td><td>0</td><td>0</td><td>0</td><td>0</td><td>0</td><td>0</td><td>0</td><td>0</td><td>0</td><td>0</td><td>0</td><td>0</td><td>0</td><td>0</td><td>0</td><td>0</td><td style=\"background-color: yellow;\"><b>1</b></td><td>0</td><td>0</td><td>0</td><td>0</td><td>0</td></tr><tr><td>0</td><td>0</td><td>0</td><td>0</td><td>0</td><td>0</td><td>0</td><td>0</td><td>0</td><td>0</td><td>0</td><td>0</td><td>0</td><td>0</td><td>0</td><td>0</td><td>0</td><td>0</td><td>0</td><td style=\"background-color: yellow;\"><b>1</b></td><td>0</td><td>0</td><td>0</td><td>0</td></tr><tr><td>0</td><td>0</td><td>0</td><td>0</td><td>0</td><td>0</td><td>0</td><td>0</td><td>0</td><td>0</td><td>0</td><td>0</td><td>0</td><td>0</td><td>0</td><td>0</td><td>0</td><td>0</td><td>0</td><td>0</td><td style=\"background-color: yellow;\"><b>1</b></td><td>0</td><td>0</td><td>0</td></tr><tr><td>0</td><td>0</td><td>0</td><td>0</td><td>0</td><td>0</td><td>0</td><td>0</td><td>0</td><td>0</td><td>0</td><td>0</td><td>0</td><td>0</td><td>0</td><td>0</td><td>0</td><td>0</td><td>0</td><td>0</td><td>0</td><td style=\"background-color: yellow;\"><b>1</b></td><td>0</td><td>0</td></tr><tr><td>0</td><td>0</td><td>0</td><td>0</td><td>0</td><td>0</td><td>0</td><td>0</td><td>0</td><td>0</td><td>0</td><td>0</td><td>0</td><td>0</td><td>0</td><td>0</td><td>0</td><td>0</td><td>0</td><td>0</td><td>0</td><td>0</td><td style=\"background-color: yellow;\"><b>1</b></td><td>0</td></tr><tr><td>0</td><td>0</td><td>0</td><td>0</td><td>0</td><td>0</td><td>0</td><td>0</td><td>0</td><td>0</td><td>0</td><td>0</td><td>0</td><td>0</td><td>0</td><td>0</td><td>0</td><td>0</td><td>0</td><td>0</td><td>0</td><td>0</td><td>0</td><td style=\"background-color: yellow;\"><b>1</b></td></tr><tr><td style=\"background-color: yellow;\"><b>1</b></td><td>0</td><td>0</td><td>0</td><td>0</td><td>0</td><td>0</td><td>0</td><td>0</td><td>0</td><td>0</td><td>0</td><td>0</td><td>0</td><td>0</td><td>0</td><td>0</td><td>0</td><td>0</td><td>0</td><td>0</td><td>0</td><td>0</td><td>0</td></tr><tr><td>0</td><td style=\"background-color: yellow;\"><b>1</b></td><td>0</td><td>0</td><td>0</td><td>0</td><td>0</td><td>0</td><td>0</td><td>0</td><td>0</td><td>0</td><td>0</td><td>0</td><td>0</td><td>0</td><td>0</td><td>0</td><td>0</td><td>0</td><td>0</td><td>0</td><td>0</td><td>0</td></tr><tr><td>0</td><td>0</td><td style=\"background-color: yellow;\"><b>1</b></td><td>0</td><td>0</td><td>0</td><td>0</td><td>0</td><td>0</td><td>0</td><td>0</td><td>0</td><td>0</td><td>0</td><td>0</td><td>0</td><td>0</td><td>0</td><td>0</td><td>0</td><td>0</td><td>0</td><td>0</td><td>0</td></tr><tr><td>0</td><td>0</td><td>0</td><td style=\"background-color: yellow;\"><b>1</b></td><td>0</td><td>0</td><td>0</td><td>0</td><td>0</td><td>0</td><td>0</td><td>0</td><td>0</td><td>0</td><td>0</td><td>0</td><td>0</td><td>0</td><td>0</td><td>0</td><td>0</td><td>0</td><td>0</td><td>0</td></tr><tr><td>0</td><td>0</td><td>0</td><td>0</td><td style=\"background-color: yellow;\"><b>1</b></td><td>0</td><td>0</td><td>0</td><td>0</td><td>0</td><td>0</td><td>0</td><td>0</td><td>0</td><td>0</td><td>0</td><td>0</td><td>0</td><td>0</td><td>0</td><td>0</td><td>0</td><td>0</td><td>0</td></tr><tr><td>0</td><td>0</td><td>0</td><td>0</td><td>0</td><td style=\"background-color: yellow;\"><b>1</b></td><td>0</td><td>0</td><td>0</td><td>0</td><td>0</td><td>0</td><td>0</td><td>0</td><td>0</td><td>0</td><td>0</td><td>0</td><td>0</td><td>0</td><td>0</td><td>0</td><td>0</td><td>0</td></tr><tr><td>0</td><td>0</td><td>0</td><td>0</td><td>0</td><td>0</td><td style=\"background-color: yellow;\"><b>1</b></td><td>0</td><td>0</td><td>0</td><td>0</td><td>0</td><td>0</td><td>0</td><td>0</td><td>0</td><td>0</td><td>0</td><td>0</td><td>0</td><td>0</td><td>0</td><td>0</td><td>0</td></tr><tr><td>0</td><td>0</td><td>0</td><td>0</td><td>0</td><td>0</td><td>0</td><td style=\"background-color: yellow;\"><b>1</b></td><td>0</td><td>0</td><td>0</td><td>0</td><td>0</td><td>0</td><td>0</td><td>0</td><td>0</td><td>0</td><td>0</td><td>0</td><td>0</td><td>0</td><td>0</td><td>0</td></tr><tr><td>0</td><td>0</td><td>0</td><td>0</td><td>0</td><td>0</td><td>0</td><td>0</td><td style=\"background-color: yellow;\"><b>1</b></td><td>0</td><td>0</td><td>0</td><td>0</td><td>0</td><td>0</td><td>0</td><td>0</td><td>0</td><td>0</td><td>0</td><td>0</td><td>0</td><td>0</td><td>0</td></tr><tr><td>0</td><td>0</td><td>0</td><td>0</td><td>0</td><td>0</td><td>0</td><td>0</td><td>0</td><td style=\"background-color: yellow;\"><b>1</b></td><td>0</td><td>0</td><td>0</td><td>0</td><td>0</td><td>0</td><td>0</td><td>0</td><td>0</td><td>0</td><td>0</td><td>0</td><td>0</td><td>0</td></tr><tr><td>0</td><td>0</td><td>0</td><td>0</td><td>0</td><td>0</td><td>0</td><td>0</td><td>0</td><td>0</td><td style=\"background-color: yellow;\"><b>1</b></td><td>0</td><td>0</td><td>0</td><td>0</td><td>0</td><td>0</td><td>0</td><td>0</td><td>0</td><td>0</td><td>0</td><td>0</td><td>0</td></tr><tr><td>0</td><td>0</td><td>0</td><td>0</td><td>0</td><td>0</td><td>0</td><td>0</td><td>0</td><td>0</td><td>0</td><td style=\"background-color: yellow;\"><b>1</b></td><td>0</td><td>0</td><td>0</td><td>0</td><td>0</td><td>0</td><td>0</td><td>0</td><td>0</td><td>0</td><td>0</td><td>0</td></tr><tr><td>0</td><td>0</td><td>0</td><td>0</td><td>0</td><td>0</td><td>0</td><td>0</td><td>0</td><td>0</td><td>0</td><td>0</td><td style=\"background-color: yellow;\"><b>1</b></td><td>0</td><td>0</td><td>0</td><td>0</td><td>0</td><td>0</td><td>0</td><td>0</td><td>0</td><td>0</td><td>0</td></tr><tr><td>0</td><td>0</td><td>0</td><td>0</td><td>0</td><td>0</td><td>0</td><td>0</td><td>0</td><td>0</td><td>0</td><td>0</td><td>0</td><td style=\"background-color: yellow;\"><b>1</b></td><td>0</td><td>0</td><td>0</td><td>0</td><td>0</td><td>0</td><td>0</td><td>0</td><td>0</td><td>0</td></tr><tr><td>0</td><td>0</td><td>0</td><td>0</td><td>0</td><td>0</td><td>0</td><td>0</td><td>0</td><td>0</td><td>0</td><td>0</td><td>0</td><td>0</td><td style=\"background-color: yellow;\"><b>1</b></td><td>0</td><td>0</td><td>0</td><td>0</td><td>0</td><td>0</td><td>0</td><td>0</td><td>0</td></tr><tr><td>0</td><td>0</td><td>0</td><td>0</td><td>0</td><td>0</td><td>0</td><td>0</td><td>0</td><td>0</td><td>0</td><td>0</td><td>0</td><td>0</td><td>0</td><td style=\"background-color: yellow;\"><b>1</b></td><td>0</td><td>0</td><td>0</td><td>0</td><td>0</td><td>0</td><td>0</td><td>0</td></tr></table>"
      ],
      "text/plain": [
       "<IPython.core.display.HTML object>"
      ]
     },
     "metadata": {},
     "output_type": "display_data"
    }
   ],
   "source": [
    "def get_sub_matrix(z, value):\n",
    "    if value == -1:\n",
    "        submatrix = np.zeros((z, z), dtype=np.float64)\n",
    "    else:\n",
    "        first_row = np.zeros(z, dtype=np.float64)\n",
    "        first_row[value] = 1\n",
    "        submatrix = np.array([np.roll(first_row, i) for i in range(z)], dtype=np.int32)\n",
    "    return submatrix\n",
    "\n",
    "z=24\n",
    "value=16\n",
    "print(\"z:\"+str(z)+\", value:\"+str(value))\n",
    "print(\"submatrix:\")\n",
    "show_array(get_sub_matrix(z, value))"
   ]
  },
  {
   "cell_type": "markdown",
   "id": "646ce829",
   "metadata": {
    "id": "646ce829"
   },
   "source": [
    "## func get_h_matrix\n",
    "\n",
    "## If z and b_matrix are input, a h-matrix matching the conditions is created.\n",
    "\n",
    "<img src=\"https://raw.githubusercontent.com/smin-k/Digital-Communication-Systems/main/img/h_matrix.png\" />"
   ]
  },
  {
   "cell_type": "code",
   "execution_count": 5,
   "id": "321901fa",
   "metadata": {
    "colab": {
     "base_uri": "https://localhost:8080/"
    },
    "executionInfo": {
     "elapsed": 7,
     "status": "ok",
     "timestamp": 1702292469072,
     "user": {
      "displayName": "김승민",
      "userId": "06799525612293914117"
     },
     "user_tz": -540
    },
    "id": "321901fa",
    "outputId": "6047ef56-5055-4493-e6d9-ecfa3c38ebb7",
    "scrolled": false
   },
   "outputs": [
    {
     "name": "stdout",
     "output_type": "stream",
     "text": [
      "(96, 576)\n"
     ]
    }
   ],
   "source": [
    "def get_h_matrix(z, b_matrix):\n",
    "    z_0 = 96  # 2304/24\n",
    "    m, n = b_matrix.shape  # b_matrix의 크기\n",
    "    h_matrix = np.zeros((m * z, n * z), dtype=np.float64)\n",
    "\n",
    "    for i in range(m):\n",
    "        for j in range(n):\n",
    "            value = b_matrix[i, j]\n",
    "            if value <= 0:\n",
    "                sub_matrix = get_sub_matrix(z, value)\n",
    "            else:\n",
    "                #equation\n",
    "                value = int((value * z) / z_0)\n",
    "\n",
    "                sub_matrix = get_sub_matrix(z, value)\n",
    "            h_matrix[i * z:(i + 1) * z, j * z:(j + 1) * z] = sub_matrix\n",
    "\n",
    "    return h_matrix\n",
    "\n",
    "\n",
    "n= 576\n",
    "r= 5/6\n",
    "z, b_matrix = get_base_matrix(n,r)\n",
    "h = get_h_matrix(z, b_matrix)\n",
    "print(h.shape)"
   ]
  },
  {
   "cell_type": "markdown",
   "id": "460ddb7d",
   "metadata": {
    "id": "460ddb7d"
   },
   "source": [
    "# Data generation\n",
    "## Generate an original information block of 𝑘 bits arbitrarily."
   ]
  },
  {
   "cell_type": "code",
   "execution_count": 6,
   "id": "166109b2",
   "metadata": {
    "colab": {
     "base_uri": "https://localhost:8080/"
    },
    "executionInfo": {
     "elapsed": 7,
     "status": "ok",
     "timestamp": 1702292469073,
     "user": {
      "displayName": "김승민",
      "userId": "06799525612293914117"
     },
     "user_tz": -540
    },
    "id": "166109b2",
    "outputId": "67a87770-c29c-4ec6-981d-2ef296b9e9fd"
   },
   "outputs": [
    {
     "name": "stdout",
     "output_type": "stream",
     "text": [
      "[0 1 1 1 1 0 1 1 0 0]\n",
      "[0 0 0 1 1 0 1 0 0 0]\n"
     ]
    }
   ],
   "source": [
    "def get_random_info(k):\n",
    "    return np.random.randint(0, 2, k)\n",
    "\n",
    "print(get_random_info(10))\n",
    "print(get_random_info(10))"
   ]
  },
  {
   "cell_type": "markdown",
   "id": "71375dff",
   "metadata": {
    "id": "71375dff"
   },
   "source": [
    "# Encoding:  Encode the original data using the parity check matrix 𝐇 through the efficient encoding procedure."
   ]
  },
  {
   "cell_type": "markdown",
   "id": "c8d2b99d",
   "metadata": {
    "id": "c8d2b99d"
   },
   "source": [
    "## divide_h_matrixIf z and b_matrix are input, a h-matrix matching the conditions is created.\n",
    "\n",
    "<img src=\"https://raw.githubusercontent.com/smin-k/Digital-Communication-Systems/main/img/divid_h_matrix.png\" />"
   ]
  },
  {
   "cell_type": "code",
   "execution_count": 7,
   "id": "eb405e48",
   "metadata": {
    "colab": {
     "base_uri": "https://localhost:8080/"
    },
    "executionInfo": {
     "elapsed": 1579,
     "status": "ok",
     "timestamp": 1702292471269,
     "user": {
      "displayName": "김승민",
      "userId": "06799525612293914117"
     },
     "user_tz": -540
    },
    "id": "eb405e48",
    "outputId": "436d8177-db47-4d86-d770-c5729bd9d17f"
   },
   "outputs": [
    {
     "name": "stdout",
     "output_type": "stream",
     "text": [
      "A (264, 288) B (264, 24) T (264, 264) C (24, 288) D (24, 24) E (24, 264)\n"
     ]
    }
   ],
   "source": [
    "@jit(nopython=True)\n",
    "def divide_h_matrix(h_matrix):\n",
    "    m, n = h_matrix.shape\n",
    "    k = n - m\n",
    "    z = int(n/24)\n",
    "\n",
    "    a = np.ascontiguousarray(h_matrix[:(m-z), :k])\n",
    "    b = np.ascontiguousarray(h_matrix[:(m-z), k:(k+z)])\n",
    "    t = np.ascontiguousarray(h_matrix[:(m-z), -(m-z):])\n",
    "    c = np.ascontiguousarray(h_matrix[(-z):, :k])\n",
    "    d = np.ascontiguousarray(h_matrix[(-z):, k:(k+z)])\n",
    "    e = np.ascontiguousarray(h_matrix[(-z):, -(m-z):])\n",
    "\n",
    "    return a,b,t,c,d,e\n",
    "\n",
    "n= 576\n",
    "r= 1/2\n",
    "z, b_matrix = get_base_matrix(n,r)\n",
    "h = get_h_matrix(z, b_matrix)\n",
    "a,b,t,c,d,e = divide_h_matrix(h)\n",
    "print(\"A\",a.shape,\"B\",b.shape,\"T\",t.shape,\"C\",c.shape,\"D\",d.shape,\"E\",e.shape)"
   ]
  },
  {
   "cell_type": "markdown",
   "id": "94425563",
   "metadata": {
    "id": "94425563"
   },
   "source": [
    "# Efficient LDPC Encoding\n",
    "<img src=\"https://raw.githubusercontent.com/smin-k/Digital-Communication-Systems/main/img/Efficient_Encoding.png\" />\n",
    "\n",
    "## Verify using this formula\n",
    "<img src=\"https://raw.githubusercontent.com/smin-k/Digital-Communication-Systems/main/img/verf_Encoding.png\" />"
   ]
  },
  {
   "cell_type": "code",
   "execution_count": 8,
   "id": "e006f944",
   "metadata": {
    "colab": {
     "base_uri": "https://localhost:8080/",
     "height": 531
    },
    "executionInfo": {
     "elapsed": 5366,
     "status": "ok",
     "timestamp": 1702292476634,
     "user": {
      "displayName": "김승민",
      "userId": "06799525612293914117"
     },
     "user_tz": -540
    },
    "id": "e006f944",
    "outputId": "0fce8018-cb53-445d-cba2-1279356a4376",
    "scrolled": false
   },
   "outputs": [
    {
     "name": "stdout",
     "output_type": "stream",
     "text": [
      "(576,)\n"
     ]
    },
    {
     "data": {
      "text/html": [
       "<table><tr><td style=\"background-color: yellow;\"><b>1.0</b></td><td>0.0</td><td>0.0</td><td>0.0</td><td>0.0</td><td>0.0</td><td>0.0</td><td>0.0</td><td>0.0</td><td>0.0</td><td>0.0</td><td>0.0</td><td>0.0</td><td>0.0</td><td>0.0</td><td>0.0</td><td>0.0</td><td>0.0</td><td>0.0</td><td>0.0</td><td>0.0</td><td>0.0</td><td>0.0</td><td>0.0</td></tr><tr><td>0.0</td><td style=\"background-color: yellow;\"><b>1.0</b></td><td>0.0</td><td>0.0</td><td>0.0</td><td>0.0</td><td>0.0</td><td>0.0</td><td>0.0</td><td>0.0</td><td>0.0</td><td>0.0</td><td>0.0</td><td>0.0</td><td>0.0</td><td>0.0</td><td>0.0</td><td>0.0</td><td>0.0</td><td>0.0</td><td>0.0</td><td>0.0</td><td>0.0</td><td>0.0</td></tr><tr><td>0.0</td><td>0.0</td><td style=\"background-color: yellow;\"><b>1.0</b></td><td>0.0</td><td>0.0</td><td>0.0</td><td>0.0</td><td>0.0</td><td>0.0</td><td>0.0</td><td>0.0</td><td>0.0</td><td>0.0</td><td>0.0</td><td>0.0</td><td>0.0</td><td>0.0</td><td>0.0</td><td>0.0</td><td>0.0</td><td>0.0</td><td>0.0</td><td>0.0</td><td>0.0</td></tr><tr><td>0.0</td><td>0.0</td><td>0.0</td><td style=\"background-color: yellow;\"><b>1.0</b></td><td>0.0</td><td>0.0</td><td>0.0</td><td>0.0</td><td>0.0</td><td>0.0</td><td>0.0</td><td>0.0</td><td>0.0</td><td>0.0</td><td>0.0</td><td>0.0</td><td>0.0</td><td>0.0</td><td>0.0</td><td>0.0</td><td>0.0</td><td>0.0</td><td>0.0</td><td>0.0</td></tr><tr><td>0.0</td><td>0.0</td><td>0.0</td><td>0.0</td><td style=\"background-color: yellow;\"><b>1.0</b></td><td>0.0</td><td>0.0</td><td>0.0</td><td>0.0</td><td>0.0</td><td>0.0</td><td>0.0</td><td>0.0</td><td>0.0</td><td>0.0</td><td>0.0</td><td>0.0</td><td>0.0</td><td>0.0</td><td>0.0</td><td>0.0</td><td>0.0</td><td>0.0</td><td>0.0</td></tr><tr><td>0.0</td><td>0.0</td><td>0.0</td><td>0.0</td><td>0.0</td><td style=\"background-color: yellow;\"><b>1.0</b></td><td>0.0</td><td>0.0</td><td>0.0</td><td>0.0</td><td>0.0</td><td>0.0</td><td>0.0</td><td>0.0</td><td>0.0</td><td>0.0</td><td>0.0</td><td>0.0</td><td>0.0</td><td>0.0</td><td>0.0</td><td>0.0</td><td>0.0</td><td>0.0</td></tr><tr><td>0.0</td><td>0.0</td><td>0.0</td><td>0.0</td><td>0.0</td><td>0.0</td><td style=\"background-color: yellow;\"><b>1.0</b></td><td>0.0</td><td>0.0</td><td>0.0</td><td>0.0</td><td>0.0</td><td>0.0</td><td>0.0</td><td>0.0</td><td>0.0</td><td>0.0</td><td>0.0</td><td>0.0</td><td>0.0</td><td>0.0</td><td>0.0</td><td>0.0</td><td>0.0</td></tr><tr><td>0.0</td><td>0.0</td><td>0.0</td><td>0.0</td><td>0.0</td><td>0.0</td><td>0.0</td><td style=\"background-color: yellow;\"><b>1.0</b></td><td>0.0</td><td>0.0</td><td>0.0</td><td>0.0</td><td>0.0</td><td>0.0</td><td>0.0</td><td>0.0</td><td>0.0</td><td>0.0</td><td>0.0</td><td>0.0</td><td>0.0</td><td>0.0</td><td>0.0</td><td>0.0</td></tr><tr><td>0.0</td><td>0.0</td><td>0.0</td><td>0.0</td><td>0.0</td><td>0.0</td><td>0.0</td><td>0.0</td><td style=\"background-color: yellow;\"><b>1.0</b></td><td>0.0</td><td>0.0</td><td>0.0</td><td>0.0</td><td>0.0</td><td>0.0</td><td>0.0</td><td>0.0</td><td>0.0</td><td>0.0</td><td>0.0</td><td>0.0</td><td>0.0</td><td>0.0</td><td>0.0</td></tr><tr><td>0.0</td><td>0.0</td><td>0.0</td><td>0.0</td><td>0.0</td><td>0.0</td><td>0.0</td><td>0.0</td><td>0.0</td><td style=\"background-color: yellow;\"><b>1.0</b></td><td>0.0</td><td>0.0</td><td>0.0</td><td>0.0</td><td>0.0</td><td>0.0</td><td>0.0</td><td>0.0</td><td>0.0</td><td>0.0</td><td>0.0</td><td>0.0</td><td>0.0</td><td>0.0</td></tr><tr><td>0.0</td><td>0.0</td><td>0.0</td><td>0.0</td><td>0.0</td><td>0.0</td><td>0.0</td><td>0.0</td><td>0.0</td><td>0.0</td><td style=\"background-color: yellow;\"><b>1.0</b></td><td>0.0</td><td>0.0</td><td>0.0</td><td>0.0</td><td>0.0</td><td>0.0</td><td>0.0</td><td>0.0</td><td>0.0</td><td>0.0</td><td>0.0</td><td>0.0</td><td>0.0</td></tr><tr><td>0.0</td><td>0.0</td><td>0.0</td><td>0.0</td><td>0.0</td><td>0.0</td><td>0.0</td><td>0.0</td><td>0.0</td><td>0.0</td><td>0.0</td><td style=\"background-color: yellow;\"><b>1.0</b></td><td>0.0</td><td>0.0</td><td>0.0</td><td>0.0</td><td>0.0</td><td>0.0</td><td>0.0</td><td>0.0</td><td>0.0</td><td>0.0</td><td>0.0</td><td>0.0</td></tr><tr><td>0.0</td><td>0.0</td><td>0.0</td><td>0.0</td><td>0.0</td><td>0.0</td><td>0.0</td><td>0.0</td><td>0.0</td><td>0.0</td><td>0.0</td><td>0.0</td><td style=\"background-color: yellow;\"><b>1.0</b></td><td>0.0</td><td>0.0</td><td>0.0</td><td>0.0</td><td>0.0</td><td>0.0</td><td>0.0</td><td>0.0</td><td>0.0</td><td>0.0</td><td>0.0</td></tr><tr><td>0.0</td><td>0.0</td><td>0.0</td><td>0.0</td><td>0.0</td><td>0.0</td><td>0.0</td><td>0.0</td><td>0.0</td><td>0.0</td><td>0.0</td><td>0.0</td><td>0.0</td><td style=\"background-color: yellow;\"><b>1.0</b></td><td>0.0</td><td>0.0</td><td>0.0</td><td>0.0</td><td>0.0</td><td>0.0</td><td>0.0</td><td>0.0</td><td>0.0</td><td>0.0</td></tr><tr><td>0.0</td><td>0.0</td><td>0.0</td><td>0.0</td><td>0.0</td><td>0.0</td><td>0.0</td><td>0.0</td><td>0.0</td><td>0.0</td><td>0.0</td><td>0.0</td><td>0.0</td><td>0.0</td><td style=\"background-color: yellow;\"><b>1.0</b></td><td>0.0</td><td>0.0</td><td>0.0</td><td>0.0</td><td>0.0</td><td>0.0</td><td>0.0</td><td>0.0</td><td>0.0</td></tr><tr><td>0.0</td><td>0.0</td><td>0.0</td><td>0.0</td><td>0.0</td><td>0.0</td><td>0.0</td><td>0.0</td><td>0.0</td><td>0.0</td><td>0.0</td><td>0.0</td><td>0.0</td><td>0.0</td><td>0.0</td><td style=\"background-color: yellow;\"><b>1.0</b></td><td>0.0</td><td>0.0</td><td>0.0</td><td>0.0</td><td>0.0</td><td>0.0</td><td>0.0</td><td>0.0</td></tr><tr><td>0.0</td><td>0.0</td><td>0.0</td><td>0.0</td><td>0.0</td><td>0.0</td><td>0.0</td><td>0.0</td><td>0.0</td><td>0.0</td><td>0.0</td><td>0.0</td><td>0.0</td><td>0.0</td><td>0.0</td><td>0.0</td><td style=\"background-color: yellow;\"><b>1.0</b></td><td>0.0</td><td>0.0</td><td>0.0</td><td>0.0</td><td>0.0</td><td>0.0</td><td>0.0</td></tr><tr><td>0.0</td><td>0.0</td><td>0.0</td><td>0.0</td><td>0.0</td><td>0.0</td><td>0.0</td><td>0.0</td><td>0.0</td><td>0.0</td><td>0.0</td><td>0.0</td><td>0.0</td><td>0.0</td><td>0.0</td><td>0.0</td><td>0.0</td><td style=\"background-color: yellow;\"><b>1.0</b></td><td>0.0</td><td>0.0</td><td>0.0</td><td>0.0</td><td>0.0</td><td>0.0</td></tr><tr><td>0.0</td><td>0.0</td><td>0.0</td><td>0.0</td><td>0.0</td><td>0.0</td><td>0.0</td><td>0.0</td><td>0.0</td><td>0.0</td><td>0.0</td><td>0.0</td><td>0.0</td><td>0.0</td><td>0.0</td><td>0.0</td><td>0.0</td><td>0.0</td><td style=\"background-color: yellow;\"><b>1.0</b></td><td>0.0</td><td>0.0</td><td>0.0</td><td>0.0</td><td>0.0</td></tr><tr><td>0.0</td><td>0.0</td><td>0.0</td><td>0.0</td><td>0.0</td><td>0.0</td><td>0.0</td><td>0.0</td><td>0.0</td><td>0.0</td><td>0.0</td><td>0.0</td><td>0.0</td><td>0.0</td><td>0.0</td><td>0.0</td><td>0.0</td><td>0.0</td><td>0.0</td><td style=\"background-color: yellow;\"><b>1.0</b></td><td>0.0</td><td>0.0</td><td>0.0</td><td>0.0</td></tr><tr><td>0.0</td><td>0.0</td><td>0.0</td><td>0.0</td><td>0.0</td><td>0.0</td><td>0.0</td><td>0.0</td><td>0.0</td><td>0.0</td><td>0.0</td><td>0.0</td><td>0.0</td><td>0.0</td><td>0.0</td><td>0.0</td><td>0.0</td><td>0.0</td><td>0.0</td><td>0.0</td><td style=\"background-color: yellow;\"><b>1.0</b></td><td>0.0</td><td>0.0</td><td>0.0</td></tr><tr><td>0.0</td><td>0.0</td><td>0.0</td><td>0.0</td><td>0.0</td><td>0.0</td><td>0.0</td><td>0.0</td><td>0.0</td><td>0.0</td><td>0.0</td><td>0.0</td><td>0.0</td><td>0.0</td><td>0.0</td><td>0.0</td><td>0.0</td><td>0.0</td><td>0.0</td><td>0.0</td><td>0.0</td><td style=\"background-color: yellow;\"><b>1.0</b></td><td>0.0</td><td>0.0</td></tr><tr><td>0.0</td><td>0.0</td><td>0.0</td><td>0.0</td><td>0.0</td><td>0.0</td><td>0.0</td><td>0.0</td><td>0.0</td><td>0.0</td><td>0.0</td><td>0.0</td><td>0.0</td><td>0.0</td><td>0.0</td><td>0.0</td><td>0.0</td><td>0.0</td><td>0.0</td><td>0.0</td><td>0.0</td><td>0.0</td><td style=\"background-color: yellow;\"><b>1.0</b></td><td>0.0</td></tr><tr><td>0.0</td><td>0.0</td><td>0.0</td><td>0.0</td><td>0.0</td><td>0.0</td><td>0.0</td><td>0.0</td><td>0.0</td><td>0.0</td><td>0.0</td><td>0.0</td><td>0.0</td><td>0.0</td><td>0.0</td><td>0.0</td><td>0.0</td><td>0.0</td><td>0.0</td><td>0.0</td><td>0.0</td><td>0.0</td><td>0.0</td><td style=\"background-color: yellow;\"><b>1.0</b></td></tr></table>"
      ],
      "text/plain": [
       "<IPython.core.display.HTML object>"
      ]
     },
     "metadata": {},
     "output_type": "display_data"
    }
   ],
   "source": [
    "def encoding_data(u,h_matrix):\n",
    "    u=u.astype(np.float64)\n",
    "    A, B, T, C, D, E = divide_h_matrix(h_matrix)\n",
    "\n",
    "    inv_T = inv(T)\n",
    "    return jit_encoding_data(u,A, B, T, C, D, E,inv_T)\n",
    "\n",
    "@jit(nopython=True)\n",
    "def jit_encoding_data(u,A, B, T, C, D, E,inv_T):\n",
    "\n",
    "    # 행렬 곱셈 최적화\n",
    "    ET_inv_A = E @ inv_T @ A\n",
    "    p1_t = (ET_inv_A + C) @ u.T % 2\n",
    "\n",
    "    BT_p1t = B @ p1_t\n",
    "    AT_uT = A @ u.T\n",
    "    p2_t = inv_T @ (AT_uT + BT_p1t) % 2\n",
    "\n",
    "    p1 = p1_t.T\n",
    "    p2 = p2_t.T\n",
    "\n",
    "    encoded_data = np.concatenate((u, p1, p2))\n",
    "    return encoded_data\n",
    "\n",
    "n= 576\n",
    "r= 1/2\n",
    "z, b_matrix = get_base_matrix(n,r)\n",
    "h = get_h_matrix(z, b_matrix)\n",
    "A,B,T,C,D,E = divide_h_matrix(h)\n",
    "\n",
    "u = get_random_info(int(n*r))\n",
    "encoded_data = encoding_data(u,h)\n",
    "print(encoded_data.shape)\n",
    "show_array((E @ inv(T) @ B + D) %2)"
   ]
  },
  {
   "cell_type": "markdown",
   "id": "a695da36",
   "metadata": {
    "id": "a695da36"
   },
   "source": [
    "# Modulation: Modulate each codeword block by BPSK modulation\n",
    "\n",
    "<img src=\"https://raw.githubusercontent.com/smin-k/Digital-Communication-Systems/main/img/Modulation.png\" />"
   ]
  },
  {
   "cell_type": "code",
   "execution_count": 9,
   "id": "dff97948",
   "metadata": {
    "colab": {
     "base_uri": "https://localhost:8080/",
     "height": 486
    },
    "executionInfo": {
     "elapsed": 1407,
     "status": "ok",
     "timestamp": 1702292478036,
     "user": {
      "displayName": "김승민",
      "userId": "06799525612293914117"
     },
     "user_tz": -540
    },
    "id": "dff97948",
    "outputId": "ba4c7ee2-c483-4d96-e8d4-93dd82a99aa6",
    "scrolled": true
   },
   "outputs": [
    {
     "data": {
      "image/png": "[encoded data removed]",
      "text/plain": [
       "<Figure size 640x480 with 2 Axes>"
      ]
     },
     "metadata": {},
     "output_type": "display_data"
    }
   ],
   "source": [
    "#Modulation: Modulate each codeword block by BPSK modulation.\n",
    "# 0 -> -1 , 1 -> 1\n",
    "\n",
    "def BPSK_modulation(input):\n",
    "    return np.where(input == 0, 1, -1)\n",
    "\n",
    "u = get_random_info(20)\n",
    "\n",
    "plt.subplot(2, 1, 1)\n",
    "plt.plot(u, drawstyle='steps-pre')\n",
    "plt.title(\"Original codeword\")\n",
    "plt.xlabel(\"Sample\")\n",
    "plt.ylabel(\"Amplitude\")\n",
    "plt.ylim(-1.5, 1.5)\n",
    "plt.grid(True)\n",
    "\n",
    "bpsk_signal = BPSK_modulation(u)\n",
    "\n",
    "plt.subplot(2, 1, 2)\n",
    "plt.plot(bpsk_signal, drawstyle='steps-pre')\n",
    "plt.title(\"Original BPSK Signal\")\n",
    "plt.xlabel(\"Sample\")\n",
    "plt.ylabel(\"Amplitude\")\n",
    "plt.ylim(-1.5, 1.5)\n",
    "plt.grid(True)\n",
    "plt.tight_layout()\n",
    "plt.show()\n"
   ]
  },
  {
   "cell_type": "markdown",
   "id": "493aafad",
   "metadata": {
    "id": "493aafad"
   },
   "source": [
    "# Transmission: Transmit modulated symbols over\n",
    "## the AWGN channel with the noise power spectral density 𝑁/2.\n",
    "\n",
    "<img src=\"https://raw.githubusercontent.com/smin-k/Digital-Communication-Systems/main/img/AWGN.png\" />"
   ]
  },
  {
   "cell_type": "code",
   "execution_count": 10,
   "id": "a574bc4d",
   "metadata": {
    "colab": {
     "base_uri": "https://localhost:8080/",
     "height": 557
    },
    "executionInfo": {
     "elapsed": 1803,
     "status": "ok",
     "timestamp": 1702292479836,
     "user": {
      "displayName": "김승민",
      "userId": "06799525612293914117"
     },
     "user_tz": -540
    },
    "id": "a574bc4d",
    "outputId": "8632201c-ada4-4f50-9c9d-5e11d8a9217b"
   },
   "outputs": [
    {
     "data": {
      "image/png": "[encoded data removed]",
      "text/plain": [
       "<Figure size 640x480 with 1 Axes>"
      ]
     },
     "metadata": {},
     "output_type": "display_data"
    },
    {
     "data": {
      "image/png": "[encoded data removed]",
      "text/plain": [
       "<Figure size 640x480 with 1 Axes>"
      ]
     },
     "metadata": {},
     "output_type": "display_data"
    }
   ],
   "source": [
    "# Transmission: Transmit modulated symbols over\n",
    "#the AWGN channel with the noise power spectral density 𝑁/2.\n",
    "\n",
    "def add_awgn_noise(signal, noise_variance ):\n",
    "    noise = np.random.normal(0, np.sqrt(noise_variance), signal.shape)\n",
    "    # 변조된 신호에 잡음 추가\n",
    "    return signal + noise\n",
    "\n",
    "snr_db = 2\n",
    "snr = snr_linear = 10 ** (snr_db / 10)\n",
    "var = 1/2 * 1/r * 1/snr\n",
    "signal_with_noise = add_awgn_noise(bpsk_signal,var)\n",
    "\n",
    "\n",
    "plt.subplot(2, 1, 2)\n",
    "plt.plot(bpsk_signal, drawstyle='steps-pre')\n",
    "plt.title(\"Original BPSK Signal\")\n",
    "plt.xlabel(\"Sample\")\n",
    "plt.ylabel(\"Amplitude\")\n",
    "plt.ylim(-1.5, 1.5)\n",
    "plt.grid(True)\n",
    "plt.tight_layout()\n",
    "plt.show()\n",
    "\n",
    "plt.subplot(2, 1, 2)\n",
    "plt.plot(signal_with_noise, drawstyle='steps-pre')\n",
    "plt.title(\"BPSK Signal with AWGN\")\n",
    "plt.xlabel(\"Sample\")\n",
    "plt.ylabel(\"Amplitude\")\n",
    "plt.ylim(-1.5, 1.5)\n",
    "plt.grid(True)\n",
    "\n",
    "plt.tight_layout()\n",
    "plt.show()"
   ]
  },
  {
   "cell_type": "markdown",
   "id": "86ef3328",
   "metadata": {
    "id": "86ef3328"
   },
   "source": [
    "# Decoding\n",
    "## Decode each received codeword by the iterative message passing algorithm\n"
   ]
  },
  {
   "cell_type": "markdown",
   "id": "bcaa09ff",
   "metadata": {
    "id": "bcaa09ff"
   },
   "source": [
    "# Check node message update\n",
    "## func update_ctv\n",
    "\n",
    "<img src=\"https://raw.githubusercontent.com/smin-k/Digital-Communication-Systems/main/img/check_meesage.png\" />"
   ]
  },
  {
   "cell_type": "code",
   "execution_count": 11,
   "id": "df97eb3f",
   "metadata": {
    "executionInfo": {
     "elapsed": 6,
     "status": "ok",
     "timestamp": 1702292479837,
     "user": {
      "displayName": "김승민",
      "userId": "06799525612293914117"
     },
     "user_tz": -540
    },
    "id": "df97eb3f"
   },
   "outputs": [],
   "source": [
    "@jit(nopython=True)\n",
    "def update_ctv(vtc_message, c ,v, v_node_indexes):\n",
    "    message = 1\n",
    "    for i in v_node_indexes:\n",
    "        if i == v:\n",
    "            continue #ingnore\n",
    "        message *=  np.tanh(vtc_message[i,c] * 1/2)\n",
    "\n",
    "    message = np.log((1+message)/(1-message))\n",
    "    return message"
   ]
  },
  {
   "cell_type": "markdown",
   "id": "07efd8f6",
   "metadata": {
    "id": "07efd8f6"
   },
   "source": [
    "# Variable node message update\n",
    "\n",
    "## func update_vtc\n",
    "\n",
    "<img src=\"https://raw.githubusercontent.com/smin-k/Digital-Communication-Systems/main/img/variable_meesage.png\" />"
   ]
  },
  {
   "cell_type": "code",
   "execution_count": 12,
   "id": "ad24e639",
   "metadata": {
    "executionInfo": {
     "elapsed": 6,
     "status": "ok",
     "timestamp": 1702292479837,
     "user": {
      "displayName": "김승민",
      "userId": "06799525612293914117"
     },
     "user_tz": -540
    },
    "id": "ad24e639"
   },
   "outputs": [],
   "source": [
    "@jit(nopython=True)\n",
    "def update_vtc(ctv_message, v, c, c_node_indexes):\n",
    "\n",
    "    #get v_message\n",
    "    tmp = 0\n",
    "    for i in c_node_indexes:\n",
    "        if i == c:\n",
    "            continue #ingnore\n",
    "        tmp += ctv_message[i,v]\n",
    "\n",
    "    return tmp"
   ]
  },
  {
   "cell_type": "markdown",
   "id": "bab73751",
   "metadata": {
    "id": "bab73751"
   },
   "source": [
    "# LLR update\n",
    "\n",
    "# func update_LLR\n",
    "\n",
    "<img src=\"https://raw.githubusercontent.com/smin-k/Digital-Communication-Systems/main/img/LLR_meesage.png\" />"
   ]
  },
  {
   "cell_type": "code",
   "execution_count": 13,
   "id": "179a3581",
   "metadata": {
    "executionInfo": {
     "elapsed": 5,
     "status": "ok",
     "timestamp": 1702292479837,
     "user": {
      "displayName": "김승민",
      "userId": "06799525612293914117"
     },
     "user_tz": -540
    },
    "id": "179a3581"
   },
   "outputs": [],
   "source": [
    "@jit(nopython=True)\n",
    "def update_LLR(ctv_message, v, c_node_indexes):\n",
    "    tmp = 0\n",
    "    for i in c_node_indexes:\n",
    "        tmp += ctv_message[i,v]\n",
    "    return tmp"
   ]
  },
  {
   "cell_type": "markdown",
   "id": "758ec028",
   "metadata": {
    "id": "758ec028"
   },
   "source": [
    "# Iterative decoding process\n",
    "\n",
    "<img src=\"https://raw.githubusercontent.com/smin-k/Digital-Communication-Systems/main/img/iter.png\" />\n",
    "<img src=\"https://raw.githubusercontent.com/smin-k/Digital-Communication-Systems/main/img/qv.png\" />"
   ]
  },
  {
   "cell_type": "code",
   "execution_count": 14,
   "id": "42742f32",
   "metadata": {
    "executionInfo": {
     "elapsed": 5,
     "status": "ok",
     "timestamp": 1702292479837,
     "user": {
      "displayName": "김승민",
      "userId": "06799525612293914117"
     },
     "user_tz": -540
    },
    "id": "42742f32",
    "scrolled": true
   },
   "outputs": [],
   "source": [
    "#Decoding: Decode each received codeword by the iterative message passing algorithm\n",
    "# Iterative message passing\n",
    "# Maximum number of iterations: 50\n",
    "\n",
    "@jit(nopython=True)\n",
    "def hamming_distance(matrix1, matrix2):\n",
    "    distance = np.sum(matrix1 != matrix2)\n",
    "    return distance\n",
    "\n",
    "@jit(nopython=True)\n",
    "def decoding(recived_symbol, H, var):\n",
    "    max_iter = 10\n",
    "    H_float64 = H.astype(np.float64)\n",
    "    v_nodes = 2 * recived_symbol / var\n",
    "\n",
    "    LLR = np.zeros(v_nodes.shape)\n",
    "    vtc_message=[]\n",
    "    ctv_message=[]\n",
    "\n",
    "    #vertex index\n",
    "    c_to_v = [np.where(H[i, :] == 1)[0] for i in range(H.shape[0])]\n",
    "    v_to_c = [np.where(H[:, i] == 1)[0] for i in range(H.shape[1])]\n",
    "\n",
    "    # 메시지를 넘파이 배열로 저장\n",
    "    ctv_message = np.zeros((H.shape[0], H.shape[1]))\n",
    "    vtc_message = np.zeros((H.shape[1], H.shape[0]))\n",
    "\n",
    "    #Initialization: Assign the channel LLR 𝑞 to variable node 𝑣 as its initial message.\n",
    "    for v in range(H.shape[1]):\n",
    "        c_node_indexes = v_to_c[v]\n",
    "        for c in c_node_indexes:\n",
    "            vtc_message[v,c] = v_nodes[v]\n",
    "\n",
    "    for i in range(max_iter):\n",
    "\n",
    "        #2. Check node message update: check node 𝑐 → variable node\n",
    "        for c in range(H.shape[0]):\n",
    "            # c노드와 연결된 v노드 확인\n",
    "            v_node_indexes= c_to_v[c]\n",
    "            #c 노드의 연결된 노드 선택\n",
    "            for v in v_node_indexes :\n",
    "                ctv_message[c,v] = update_ctv(vtc_message, c, v, v_node_indexes)\n",
    "\n",
    "        codeword = np.zeros(H.shape[1])\n",
    "        for v in range(H.shape[1]):\n",
    "            # v노드와 연결된 c노드 확인\n",
    "            c_node_indexes= v_to_c[v]\n",
    "            #v 노드의 연결된 노드 선택\n",
    "            #3. Variable node message update: variable node 𝑣 → check node c\n",
    "            for c in c_node_indexes :\n",
    "                vtc_message[v,c] = v_nodes[v] + update_vtc(ctv_message, v, c, c_node_indexes)\n",
    "\n",
    "            #4. LLR update: Update LLR at variable node 𝑣.\n",
    "            LLR[v] = v_nodes[v] + update_LLR(ctv_message, v, c_node_indexes)\n",
    "            #5. Hard decision of coded bit\n",
    "            codeword[v] = 0 if LLR[v] > 0 else 1\n",
    "\n",
    "        #6. Error detection\n",
    "        result = (H_float64 @ codeword.T) %2\n",
    "        #print(np.sum(result))\n",
    "        if np.all(result == 0):\n",
    "            break\n",
    "\n",
    "    return codeword\n"
   ]
  },
  {
   "cell_type": "markdown",
   "id": "b0effca7",
   "metadata": {
    "id": "b0effca7"
   },
   "source": [
    "# Misson 1 code"
   ]
  },
  {
   "cell_type": "code",
   "execution_count": 15,
   "id": "a032674b",
   "metadata": {
    "executionInfo": {
     "elapsed": 46722,
     "status": "ok",
     "timestamp": 1702292526555,
     "user": {
      "displayName": "김승민",
      "userId": "06799525612293914117"
     },
     "user_tz": -540
    },
    "id": "a032674b"
   },
   "outputs": [],
   "source": [
    "#Step 1\n",
    "n= 576\n",
    "r= 1/2\n",
    "k= int(n*r)\n",
    "\n",
    "# Parity Check Matrix: Choose a code rate 𝑅 and determine the base matrix\n",
    "#to be expanded to the parity check matrix 𝐇.\n",
    "z, b_matrix  = get_base_matrix(n,r)\n",
    "h_matrix = get_h_matrix(z, b_matrix)\n",
    "\n",
    "#snrs = np.arange(0.5, 5, 0.5)\n",
    "snrs_db = np.arange(-1, 2.0, 0.5)\n",
    "snrs = snr_linear = 10 ** (snrs_db / 10)\n",
    "\n",
    "ldpc_bit_error_counts = np.zeros_like(snrs)\n",
    "bpsk_bit_error_counts = np.zeros_like(snrs)\n",
    "total_bits_counts = np.zeros_like(snrs)\n",
    "max_bit_errors = 1000  # 각 SNR에 대해 찾을 비트 에러의 최대 수\n",
    "max_bit_simulated= 100000\n",
    "\n",
    "for idx, snr in enumerate(snrs):\n",
    "    ldpc_bit_errors = 0\n",
    "    bpsk_bit_errors = 0\n",
    "    total_bits_simulated = 0\n",
    "    var = 1/2 * 1/r * 1/snr\n",
    "\n",
    "    #Data generation: Generate an original information block of 𝑘𝑘 bits arbitrarily.\n",
    "    data = get_random_info(k)\n",
    "    #Encoding: Encode the original data using the parity check matrix 𝐇 through the efficient encoding procedur\n",
    "    codeword = encoding_data(data,h_matrix)\n",
    "    #Modulation: Modulate each codeword block by BPSK modulation.\n",
    "    bpsk_signal = BPSK_modulation(codeword)\n",
    "\n",
    "    while ldpc_bit_errors < max_bit_errors or bpsk_bit_errors < max_bit_errors or total_bits_simulated < max_bit_simulated :\n",
    "\n",
    "        #Transmission: Transmit modulated symbols over the AWGN channel with the noise power spectral density 𝑁𝑁0/2.\n",
    "        signal_with_noise = add_awgn_noise(bpsk_signal, var)\n",
    "        #Decoding: Decode each received codeword by the iterative message passing algorithm\n",
    "        decoded_output = decoding(signal_with_noise, h_matrix, var)\n",
    "        ldpc_bit_errors += hamming_distance(data, decoded_output[:k])\n",
    "\n",
    "        #uncoded data\n",
    "        noisy_data = signal_with_noise[:k]\n",
    "        uncoded = np.array(noisy_data < 0, dtype=int)\n",
    "        bpsk_bit_errors += hamming_distance(data, uncoded)\n",
    "\n",
    "        total_bits_simulated += k\n",
    "\n",
    "    ldpc_bit_error_counts[idx] = ldpc_bit_errors\n",
    "    bpsk_bit_error_counts[idx] = bpsk_bit_errors\n",
    "    total_bits_counts[idx] = total_bits_simulated\n"
   ]
  },
  {
   "cell_type": "markdown",
   "id": "b185ee68",
   "metadata": {
    "id": "b185ee68"
   },
   "source": [
    "# Performance evaluation"
   ]
  },
  {
   "cell_type": "code",
   "execution_count": 16,
   "id": "94bf37f7",
   "metadata": {
    "colab": {
     "base_uri": "https://localhost:8080/",
     "height": 472
    },
    "executionInfo": {
     "elapsed": 1382,
     "status": "ok",
     "timestamp": 1702292527935,
     "user": {
      "displayName": "김승민",
      "userId": "06799525612293914117"
     },
     "user_tz": -540
    },
    "id": "94bf37f7",
    "outputId": "6cf5718e-bd0f-48e3-f86b-82e9a89baa92"
   },
   "outputs": [
    {
     "data": {
      "image/png": "[encoded data removed]",
      "text/plain": [
       "<Figure size 640x480 with 1 Axes>"
      ]
     },
     "metadata": {},
     "output_type": "display_data"
    }
   ],
   "source": [
    "#Performance Evaluation\n",
    "# 비트 에러 확률 계산\n",
    "ldpc_bit_error_probabilities = ldpc_bit_error_counts / total_bits_counts\n",
    "bpsk_bit_error_probabilities = bpsk_bit_error_counts / total_bits_counts\n",
    "\n",
    "# 비트 에러 확률 플롯\n",
    "plt.yscale('log')\n",
    "plt.plot(snrs_db, ldpc_bit_error_probabilities, label='LDPC Coded BPSK with n='+str(n)+', r='+str(r))\n",
    "plt.plot(snrs_db, bpsk_bit_error_probabilities, label='Uncoded BPSK')\n",
    "plt.xlabel('Eb/N0 (dB)')\n",
    "plt.ylabel('Bit Error Probability')\n",
    "plt.title('Bit Error Probability over Eb/N0')\n",
    "plt.legend()\n",
    "plt.grid(True, which=\"both\")  # 메이저와 마이너 그리드 모두 표시\n",
    "plt.show()"
   ]
  },
  {
   "cell_type": "markdown",
   "id": "74e0cf60",
   "metadata": {
    "id": "74e0cf60"
   },
   "source": [
    "# Mission 2\n",
    "## Encode an image of yourself and decode its noise corrupted version using the LDPC code"
   ]
  },
  {
   "cell_type": "markdown",
   "id": "a5c5b681",
   "metadata": {
    "id": "a5c5b681"
   },
   "source": [
    "# Data gathering\n",
    "## Read the image (.jpg) to generate the original  data. Each pixel of the image is represented by 8-bits."
   ]
  },
  {
   "cell_type": "code",
   "execution_count": 17,
   "id": "e9008b28",
   "metadata": {
    "executionInfo": {
     "elapsed": 7,
     "status": "ok",
     "timestamp": 1702292527935,
     "user": {
      "displayName": "김승민",
      "userId": "06799525612293914117"
     },
     "user_tz": -540
    },
    "id": "e9008b28"
   },
   "outputs": [],
   "source": [
    "def read_img(path):\n",
    "    image = Image.open(path)\n",
    "    return image\n",
    "\n",
    "def bits_to_image(bit_set,shape):\n",
    "\n",
    "    image_array = np.packbits(bit_set.astype(int)).reshape(shape)\n",
    "    image = Image.fromarray(image_array)\n",
    "\n",
    "    return image\n",
    "\n",
    "def blocks_to_bit(blocks,bit_size):\n",
    "    return blocks.flatten()[:bit_size]\n",
    "\n",
    "def block_img(data, h):\n",
    "    codeword_len = h.shape[0]\n",
    "    data_len = len(data)\n",
    "\n",
    "    num_blocks = data_len // codeword_len + (data_len % codeword_len != 0)  # 나머지가 있는 경우 1을 더해 마지막 블록 생성\n",
    "\n",
    "    blocks = np.zeros([num_blocks, codeword_len])\n",
    "\n",
    "    for i in range(num_blocks):\n",
    "        start_idx = i * codeword_len\n",
    "        end_idx = min((i + 1) * codeword_len, data_len)\n",
    "\n",
    "        block = data[start_idx:end_idx]\n",
    "\n",
    "        if len(block) < codeword_len:\n",
    "            padding_len = codeword_len - len(block)\n",
    "            block = np.concatenate((block, np.zeros(padding_len, dtype=int)))\n",
    "\n",
    "        blocks[i] = block\n",
    "\n",
    "    return blocks\n"
   ]
  },
  {
   "cell_type": "markdown",
   "id": "d7464792",
   "metadata": {
    "id": "d7464792"
   },
   "source": [
    "# Encoding and Decoding\n",
    "## Choose a code rate 𝑅 and determine the parity check matrix 𝐇. Then, encode each information block through the efficient encoding procedure."
   ]
  },
  {
   "cell_type": "code",
   "execution_count": 18,
   "id": "f6a50452",
   "metadata": {
    "executionInfo": {
     "elapsed": 6,
     "status": "ok",
     "timestamp": 1702292527935,
     "user": {
      "displayName": "김승민",
      "userId": "06799525612293914117"
     },
     "user_tz": -540
    },
    "id": "f6a50452"
   },
   "outputs": [],
   "source": [
    "def ldpc_encode_image_blocks(image_blocks, h_matrix, var):\n",
    "    num_blocks = len(image_blocks)\n",
    "    block_len = h_matrix.shape[1]  # 가정: 인코딩된 블록의 길이는 h_matrix의 열 길이와 같음\n",
    "\n",
    "    # NumPy 배열로 초기화\n",
    "    encoded_blocks = np.zeros((num_blocks, block_len), dtype=np.float64)\n",
    "    uncoded_blocks = np.zeros(image_blocks.shape, dtype=np.float64)\n",
    "\n",
    "    for i in range(num_blocks):\n",
    "        block = image_blocks[i]\n",
    "        ldpc_codeword = encoding_data(block, h_matrix)\n",
    "        ldpc_codeword = BPSK_modulation(ldpc_codeword)\n",
    "        signal_with_noise = add_awgn_noise(ldpc_codeword, var)\n",
    "\n",
    "        # NumPy 배열에 값 할당\n",
    "        encoded_blocks[i] = signal_with_noise\n",
    "        uncoded_blocks[i] = signal_with_noise[:len(block)]\n",
    "\n",
    "    return encoded_blocks, uncoded_blocks\n",
    "\n",
    "def ldpc_decode_image_blocks(encoded_blocks, h_matrix, var):\n",
    "    num_blocks = encoded_blocks.shape[0]\n",
    "    block_len = h_matrix.shape[0]\n",
    "    decoded_result = np.zeros((num_blocks, block_len), dtype=np.float64)\n",
    "\n",
    "    for i in range(num_blocks):\n",
    "        decoded_output = decoding(encoded_blocks[i], h_matrix, var)\n",
    "        decoded_result[i] = decoded_output[:block_len]\n",
    "\n",
    "    return decoded_result"
   ]
  },
  {
   "cell_type": "markdown",
   "id": "f0fc875c",
   "metadata": {
    "id": "f0fc875c"
   },
   "source": [
    "# Misson 2 Code"
   ]
  },
  {
   "cell_type": "code",
   "execution_count": 19,
   "id": "0e8c89fb",
   "metadata": {
    "colab": {
     "base_uri": "https://localhost:8080/",
     "height": 414
    },
    "executionInfo": {
     "elapsed": 7,
     "status": "error",
     "timestamp": 1702292527936,
     "user": {
      "displayName": "김승민",
      "userId": "06799525612293914117"
     },
     "user_tz": -540
    },
    "id": "0e8c89fb",
    "outputId": "fc7a79f6-d192-4135-c87e-6e621d1f4232"
   },
   "outputs": [
    {
     "ename": "FileNotFoundError",
     "evalue": "ignored",
     "output_type": "error",
     "traceback": [
      "\u001b[0;31m---------------------------------------------------------------------------\u001b[0m",
      "\u001b[0;31mFileNotFoundError\u001b[0m                         Traceback (most recent call last)",
      "\u001b[0;32m<ipython-input-19-0170a4055572>\u001b[0m in \u001b[0;36m<cell line: 2>\u001b[0;34m()\u001b[0m\n\u001b[1;32m      1\u001b[0m \u001b[0;31m# Photo shooting: Take a photo of yourself.\u001b[0m\u001b[0;34m\u001b[0m\u001b[0;34m\u001b[0m\u001b[0m\n\u001b[0;32m----> 2\u001b[0;31m \u001b[0mread_img\u001b[0m\u001b[0;34m(\u001b[0m\u001b[0;34m'img/input.jpg'\u001b[0m\u001b[0;34m)\u001b[0m\u001b[0;34m\u001b[0m\u001b[0;34m\u001b[0m\u001b[0m\n\u001b[0m\u001b[1;32m      3\u001b[0m \u001b[0;34m\u001b[0m\u001b[0m\n\u001b[1;32m      4\u001b[0m \u001b[0;31m#Data gathering: Read the image (.jpg) to generate the original data.\u001b[0m\u001b[0;34m\u001b[0m\u001b[0;34m\u001b[0m\u001b[0m\n\u001b[1;32m      5\u001b[0m \u001b[0mimage_array\u001b[0m \u001b[0;34m=\u001b[0m \u001b[0mnp\u001b[0m\u001b[0;34m.\u001b[0m\u001b[0marray\u001b[0m\u001b[0;34m(\u001b[0m\u001b[0mimage\u001b[0m\u001b[0;34m)\u001b[0m\u001b[0;34m\u001b[0m\u001b[0;34m\u001b[0m\u001b[0m\n",
      "\u001b[0;32m<ipython-input-17-8ceb5722ab50>\u001b[0m in \u001b[0;36mread_img\u001b[0;34m(path)\u001b[0m\n\u001b[1;32m      1\u001b[0m \u001b[0;32mdef\u001b[0m \u001b[0mread_img\u001b[0m\u001b[0;34m(\u001b[0m\u001b[0mpath\u001b[0m\u001b[0;34m)\u001b[0m\u001b[0;34m:\u001b[0m\u001b[0;34m\u001b[0m\u001b[0;34m\u001b[0m\u001b[0m\n\u001b[0;32m----> 2\u001b[0;31m     \u001b[0mimage\u001b[0m \u001b[0;34m=\u001b[0m \u001b[0mImage\u001b[0m\u001b[0;34m.\u001b[0m\u001b[0mopen\u001b[0m\u001b[0;34m(\u001b[0m\u001b[0mpath\u001b[0m\u001b[0;34m)\u001b[0m\u001b[0;34m\u001b[0m\u001b[0;34m\u001b[0m\u001b[0m\n\u001b[0m\u001b[1;32m      3\u001b[0m     \u001b[0;32mreturn\u001b[0m \u001b[0mimage\u001b[0m\u001b[0;34m\u001b[0m\u001b[0;34m\u001b[0m\u001b[0m\n\u001b[1;32m      4\u001b[0m \u001b[0;34m\u001b[0m\u001b[0m\n\u001b[1;32m      5\u001b[0m \u001b[0;32mdef\u001b[0m \u001b[0mbits_to_image\u001b[0m\u001b[0;34m(\u001b[0m\u001b[0mbit_set\u001b[0m\u001b[0;34m,\u001b[0m\u001b[0mshape\u001b[0m\u001b[0;34m)\u001b[0m\u001b[0;34m:\u001b[0m\u001b[0;34m\u001b[0m\u001b[0;34m\u001b[0m\u001b[0m\n",
      "\u001b[0;32m/usr/local/lib/python3.10/dist-packages/PIL/Image.py\u001b[0m in \u001b[0;36mopen\u001b[0;34m(fp, mode, formats)\u001b[0m\n\u001b[1;32m   3225\u001b[0m \u001b[0;34m\u001b[0m\u001b[0m\n\u001b[1;32m   3226\u001b[0m     \u001b[0;32mif\u001b[0m \u001b[0mfilename\u001b[0m\u001b[0;34m:\u001b[0m\u001b[0;34m\u001b[0m\u001b[0;34m\u001b[0m\u001b[0m\n\u001b[0;32m-> 3227\u001b[0;31m         \u001b[0mfp\u001b[0m \u001b[0;34m=\u001b[0m \u001b[0mbuiltins\u001b[0m\u001b[0;34m.\u001b[0m\u001b[0mopen\u001b[0m\u001b[0;34m(\u001b[0m\u001b[0mfilename\u001b[0m\u001b[0;34m,\u001b[0m \u001b[0;34m\"rb\"\u001b[0m\u001b[0;34m)\u001b[0m\u001b[0;34m\u001b[0m\u001b[0;34m\u001b[0m\u001b[0m\n\u001b[0m\u001b[1;32m   3228\u001b[0m         \u001b[0mexclusive_fp\u001b[0m \u001b[0;34m=\u001b[0m \u001b[0;32mTrue\u001b[0m\u001b[0;34m\u001b[0m\u001b[0;34m\u001b[0m\u001b[0m\n\u001b[1;32m   3229\u001b[0m \u001b[0;34m\u001b[0m\u001b[0m\n",
      "\u001b[0;31mFileNotFoundError\u001b[0m: [Errno 2] No such file or directory: 'img/input.jpg'"
     ]
    }
   ],
   "source": [
    "# Photo shooting: Take a photo of yourself.\n",
    "read_img('img/input.jpg')\n",
    "\n",
    "#Data gathering: Read the image (.jpg) to generate the original data.\n",
    "image_array = np.array(image)\n",
    "img_shape = image_array.shape\n",
    "img_bit= np.unpackbits(image_array)\n",
    "\n",
    "#Information block segmentation: Split the original data into\n",
    "#multiple information blocks, where each one is of length 𝑘.\n",
    "img_blocks = block_img(img_bit,h_matrix)\n",
    "\n",
    "#Demonstration: Show the original and the decoded images of yourself at low and high snr\n",
    "snrs_db = np.arange(0, 3, 1)\n",
    "snrs = snr_linear = 10 ** (snrs_db / 10)\n",
    "\n",
    "uncoded_imgs=[]\n",
    "decoded_imgs =[]\n",
    "\n",
    "for idx, snr in enumerate(snrs):\n",
    "    var = 1/2 * 1/r * 1/snr\n",
    "    encoded_blocks, uncoded_blocks = ldpc_encode_image_blocks(img_blocks, h_matrix,var)\n",
    "\n",
    "    decoded_result = ldpc_decode_image_blocks(encoded_blocks, h_matrix, var)\n",
    "    decoded_bits = blocks_to_bit(decoded_result,len(img_bit))\n",
    "    decoded_img = bits_to_image(decoded_bits,img_shape)\n",
    "\n",
    "    uncoded_result = np.array(uncoded_blocks < 0, dtype=int)\n",
    "    uncoded_bits = blocks_to_bit(uncoded_result,len(img_bit))\n",
    "    uncoded_img = bits_to_image(uncoded_bits,img_shape)\n",
    "\n",
    "    uncoded_imgs.append(uncoded_img)\n",
    "    decoded_imgs.append(decoded_img)\n"
   ]
  },
  {
   "cell_type": "markdown",
   "id": "3c9be6e4",
   "metadata": {
    "id": "3c9be6e4"
   },
   "source": [
    "# Performance comparison\n",
    "## Demonstrate the effect of the coding scheme by comparing the decoded image to the uncoded (received) one at low and high snr"
   ]
  },
  {
   "cell_type": "code",
   "execution_count": null,
   "id": "fbc29152",
   "metadata": {
    "executionInfo": {
     "elapsed": 5,
     "status": "aborted",
     "timestamp": 1702292527936,
     "user": {
      "displayName": "김승민",
      "userId": "06799525612293914117"
     },
     "user_tz": -540
    },
    "id": "fbc29152"
   },
   "outputs": [],
   "source": [
    "#Performance comparison\n",
    "display(image)\n",
    "\n",
    "num_images = len(snrs)\n",
    "fig, axes = plt.subplots(num_images, 2, figsize=(10, num_images * 5))\n",
    "\n",
    "for idx in range(num_images):\n",
    "    # 원본 이미지 표시\n",
    "    axes[idx, 0].imshow(uncoded_imgs[idx])\n",
    "    axes[idx, 0].set_title(f\"SNR: {snrs_db[idx]} - Uncoded Image\")\n",
    "    axes[idx, 0].axis('off')  # 축 표시 제거\n",
    "\n",
    "    # 디코딩된 이미지 표시\n",
    "    axes[idx, 1].imshow(decoded_imgs[idx])\n",
    "    axes[idx, 1].set_title(f\"SNR: {snrs_db[idx]} - LDPC Decoded Image with n=\"+str(n)+', r='+str(r) )\n",
    "    axes[idx, 1].axis('off')  # 축 표시 제거\n",
    "\n",
    "plt.suptitle(\"Comparison of Uncoded and Decoded Images at Different SNRs\")\n",
    "plt.show()"
   ]
  },
  {
   "cell_type": "code",
   "execution_count": null,
   "id": "yAFhK4iSicao",
   "metadata": {
    "executionInfo": {
     "elapsed": 5,
     "status": "aborted",
     "timestamp": 1702292527936,
     "user": {
      "displayName": "김승민",
      "userId": "06799525612293914117"
     },
     "user_tz": -540
    },
    "id": "yAFhK4iSicao"
   },
   "outputs": [],
   "source": []
  }
 ],
 "metadata": {
  "colab": {
   "provenance": []
  },
  "kernelspec": {
   "display_name": "Python 3 (ipykernel)",
   "language": "python",
   "name": "python3"
  },
  "language_info": {
   "codemirror_mode": {
    "name": "ipython",
    "version": 3
   },
   "file_extension": ".py",
   "mimetype": "text/x-python",
   "name": "python",
   "nbconvert_exporter": "python",
   "pygments_lexer": "ipython3",
   "version": "3.9.7"
  }
 },
 "nbformat": 4,
 "nbformat_minor": 5
}
